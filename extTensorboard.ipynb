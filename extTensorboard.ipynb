{
 "cells": [
  {
   "cell_type": "markdown",
   "metadata": {},
   "source": [
    "# extract all csv from tensorboard"
   ]
  },
  {
   "cell_type": "code",
   "execution_count": 1,
   "metadata": {},
   "outputs": [],
   "source": [
    "import os\n",
    "import numpy as np\n",
    "import pandas as pd\n",
    "\n",
    "from collections import defaultdict\n",
    "from tensorboard.backend.event_processing.event_accumulator import EventAccumulator"
   ]
  },
  {
   "cell_type": "code",
   "execution_count": 15,
   "metadata": {},
   "outputs": [],
   "source": [
    "def tabulate_events(dpath):\n",
    "\n",
    "    final_out = {}\n",
    "    for dname in os.listdir(dpath):\n",
    "        print(f\"Converting run {dname}\",end=\"\")\n",
    "        try:\n",
    "            ea = EventAccumulator(os.path.join(dpath, dname)).Reload()\n",
    "            tags = ea.Tags()['scalars']\n",
    "        except:\n",
    "            continue\n",
    "        out = {}\n",
    "\n",
    "        for tag in tags:\n",
    "            tag_values=[]\n",
    "            steps=[]\n",
    "\n",
    "            for event in ea.Scalars(tag):\n",
    "                tag_values.append(event.value)\n",
    "                steps.append(event.step)\n",
    "\n",
    "            out[tag]=pd.DataFrame(data=dict(zip(steps,np.array([tag_values]).transpose())), columns=steps,index=['value'])\n",
    "\n",
    "        if len(tags)>0:\n",
    "            try:\n",
    "                df= pd.concat(out.values(), keys=out.keys())\n",
    "                df.to_csv(os.path.join(dump_path,'{dname}.csv'))\n",
    "                print(\"- Done\")\n",
    "            except e:\n",
    "                raise e\n",
    "        else:\n",
    "            print('- Not scalers to write')\n",
    "\n",
    "        final_out[dname] = df\n",
    "\n",
    "    return final_out"
   ]
  },
  {
   "cell_type": "code",
   "execution_count": null,
   "metadata": {},
   "outputs": [],
   "source": [
    "path = \"runs/norm_grad/shuffle_wo_normgrad\" # where is the summary\n",
    "steps = tabulate_events(path)\n",
    "\n",
    "dump_path = 'mydump'\n",
    "concate_filename = 'results.csv'"
   ]
  },
  {
   "cell_type": "code",
   "execution_count": null,
   "metadata": {},
   "outputs": [],
   "source": [
    "pd.concat(steps.values(),keys=steps.keys()).to_csv(os.path.join(dump_path, concate_filename))"
   ]
  },
  {
   "cell_type": "code",
   "execution_count": null,
   "metadata": {},
   "outputs": [],
   "source": []
  }
 ],
 "metadata": {
  "kernelspec": {
   "display_name": "Python 3",
   "language": "python",
   "name": "python3"
  },
  "language_info": {
   "codemirror_mode": {
    "name": "ipython",
    "version": 3
   },
   "file_extension": ".py",
   "mimetype": "text/x-python",
   "name": "python",
   "nbconvert_exporter": "python",
   "pygments_lexer": "ipython3",
   "version": "3.7.2"
  }
 },
 "nbformat": 4,
 "nbformat_minor": 4
}
