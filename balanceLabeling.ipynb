{
 "cells": [
  {
   "cell_type": "markdown",
   "metadata": {},
   "source": [
    "# Introduction"
   ]
  },
  {
   "cell_type": "markdown",
   "metadata": {},
   "source": [
    "## Save As a Csv"
   ]
  },
  {
   "cell_type": "markdown",
   "metadata": {},
   "source": [
    "#### Preparing the ground "
   ]
  },
  {
   "cell_type": "markdown",
   "metadata": {},
   "source": [
    "##### Install and import necessary libraries"
   ]
  },
  {
   "cell_type": "code",
   "execution_count": 2,
   "metadata": {},
   "outputs": [],
   "source": [
    "import pandas as pd\n",
    "import numpy as np\n",
    "from tqdm import tqdm\n",
    "import os"
   ]
  },
  {
   "cell_type": "markdown",
   "metadata": {},
   "source": [
    "##### ploty configurations"
   ]
  },
  {
   "cell_type": "code",
   "execution_count": 3,
   "metadata": {},
   "outputs": [
    {
     "data": {
      "text/html": [
       "        <script type=\"text/javascript\">\n",
       "        window.PlotlyConfig = {MathJaxConfig: 'local'};\n",
       "        if (window.MathJax) {MathJax.Hub.Config({SVG: {font: \"STIX-Web\"}});}\n",
       "        if (typeof require !== 'undefined') {\n",
       "        require.undef(\"plotly\");\n",
       "        requirejs.config({\n",
       "            paths: {\n",
       "                'plotly': ['https://cdn.plot.ly/plotly-latest.min']\n",
       "            }\n",
       "        });\n",
       "        require(['plotly'], function(Plotly) {\n",
       "            window._Plotly = Plotly;\n",
       "        });\n",
       "        }\n",
       "        </script>\n",
       "        "
      ]
     },
     "metadata": {},
     "output_type": "display_data"
    }
   ],
   "source": [
    "import plotly.express as px\n",
    "import plotly.offline as py\n",
    "import plotly.io as pio\n",
    "import plotly.graph_objects as go\n",
    "pio.templates.default = \"plotly_dark\"\n",
    "py.init_notebook_mode(connected=True)"
   ]
  },
  {
   "cell_type": "markdown",
   "metadata": {},
   "source": [
    "#### Path specified"
   ]
  },
  {
   "cell_type": "code",
   "execution_count": 4,
   "metadata": {},
   "outputs": [],
   "source": [
    "DATA_DIR = 'data'\n",
    "LABEL_DIR = 'label.csv'\n",
    "IMAGE_DIR = os.path.join(DATA_DIR, 'DaanForestPark')"
   ]
  },
  {
   "cell_type": "markdown",
   "metadata": {},
   "source": [
    "#### Label record "
   ]
  },
  {
   "cell_type": "code",
   "execution_count": 5,
   "metadata": {},
   "outputs": [
    {
     "data": {
      "text/html": [
       "<div>\n",
       "<style scoped>\n",
       "    .dataframe tbody tr th:only-of-type {\n",
       "        vertical-align: middle;\n",
       "    }\n",
       "\n",
       "    .dataframe tbody tr th {\n",
       "        vertical-align: top;\n",
       "    }\n",
       "\n",
       "    .dataframe thead th {\n",
       "        text-align: right;\n",
       "    }\n",
       "</style>\n",
       "<table border=\"1\" class=\"dataframe\">\n",
       "  <thead>\n",
       "    <tr style=\"text-align: right;\">\n",
       "      <th></th>\n",
       "      <th>dirpath</th>\n",
       "      <th>target</th>\n",
       "    </tr>\n",
       "  </thead>\n",
       "  <tbody>\n",
       "    <tr>\n",
       "      <th>0</th>\n",
       "      <td>DaanForestPark/20180330/1lZsRrQzj</td>\n",
       "      <td>通泉草</td>\n",
       "    </tr>\n",
       "    <tr>\n",
       "      <th>1</th>\n",
       "      <td>DaanForestPark/20180330/4PdXwYcGt</td>\n",
       "      <td>紫花酢漿草</td>\n",
       "    </tr>\n",
       "    <tr>\n",
       "      <th>2</th>\n",
       "      <td>DaanForestPark/20180330/6VrmeiUE5</td>\n",
       "      <td>通泉草</td>\n",
       "    </tr>\n",
       "    <tr>\n",
       "      <th>3</th>\n",
       "      <td>DaanForestPark/20180330/7nrSoiuHL</td>\n",
       "      <td>通泉草</td>\n",
       "    </tr>\n",
       "    <tr>\n",
       "      <th>4</th>\n",
       "      <td>DaanForestPark/20180330/7RKdkJLgy</td>\n",
       "      <td>通泉草</td>\n",
       "    </tr>\n",
       "  </tbody>\n",
       "</table>\n",
       "</div>"
      ],
      "text/plain": [
       "                             dirpath target\n",
       "0  DaanForestPark/20180330/1lZsRrQzj    通泉草\n",
       "1  DaanForestPark/20180330/4PdXwYcGt  紫花酢漿草\n",
       "2  DaanForestPark/20180330/6VrmeiUE5    通泉草\n",
       "3  DaanForestPark/20180330/7nrSoiuHL    通泉草\n",
       "4  DaanForestPark/20180330/7RKdkJLgy    通泉草"
      ]
     },
     "execution_count": 5,
     "metadata": {},
     "output_type": "execute_result"
    }
   ],
   "source": [
    "label_df = pd.read_csv(LABEL_DIR, names=['dirpath', 'target'])\n",
    "label_df.head()"
   ]
  },
  {
   "cell_type": "markdown",
   "metadata": {},
   "source": [
    "#### Encode the target using categorical labeling"
   ]
  },
  {
   "cell_type": "code",
   "execution_count": 6,
   "metadata": {},
   "outputs": [
    {
     "data": {
      "text/html": [
       "<div>\n",
       "<style scoped>\n",
       "    .dataframe tbody tr th:only-of-type {\n",
       "        vertical-align: middle;\n",
       "    }\n",
       "\n",
       "    .dataframe tbody tr th {\n",
       "        vertical-align: top;\n",
       "    }\n",
       "\n",
       "    .dataframe thead th {\n",
       "        text-align: right;\n",
       "    }\n",
       "</style>\n",
       "<table border=\"1\" class=\"dataframe\">\n",
       "  <thead>\n",
       "    <tr style=\"text-align: right;\">\n",
       "      <th></th>\n",
       "      <th>dirpath</th>\n",
       "      <th>target</th>\n",
       "      <th>label</th>\n",
       "    </tr>\n",
       "  </thead>\n",
       "  <tbody>\n",
       "    <tr>\n",
       "      <th>0</th>\n",
       "      <td>DaanForestPark/20180330/1lZsRrQzj</td>\n",
       "      <td>通泉草</td>\n",
       "      <td>66</td>\n",
       "    </tr>\n",
       "    <tr>\n",
       "      <th>1</th>\n",
       "      <td>DaanForestPark/20180330/4PdXwYcGt</td>\n",
       "      <td>紫花酢漿草</td>\n",
       "      <td>51</td>\n",
       "    </tr>\n",
       "    <tr>\n",
       "      <th>2</th>\n",
       "      <td>DaanForestPark/20180330/6VrmeiUE5</td>\n",
       "      <td>通泉草</td>\n",
       "      <td>66</td>\n",
       "    </tr>\n",
       "    <tr>\n",
       "      <th>3</th>\n",
       "      <td>DaanForestPark/20180330/7nrSoiuHL</td>\n",
       "      <td>通泉草</td>\n",
       "      <td>66</td>\n",
       "    </tr>\n",
       "    <tr>\n",
       "      <th>4</th>\n",
       "      <td>DaanForestPark/20180330/7RKdkJLgy</td>\n",
       "      <td>通泉草</td>\n",
       "      <td>66</td>\n",
       "    </tr>\n",
       "  </tbody>\n",
       "</table>\n",
       "</div>"
      ],
      "text/plain": [
       "                             dirpath target  label\n",
       "0  DaanForestPark/20180330/1lZsRrQzj    通泉草     66\n",
       "1  DaanForestPark/20180330/4PdXwYcGt  紫花酢漿草     51\n",
       "2  DaanForestPark/20180330/6VrmeiUE5    通泉草     66\n",
       "3  DaanForestPark/20180330/7nrSoiuHL    通泉草     66\n",
       "4  DaanForestPark/20180330/7RKdkJLgy    通泉草     66"
      ]
     },
     "execution_count": 6,
     "metadata": {},
     "output_type": "execute_result"
    }
   ],
   "source": [
    "label_df['label'] = label_df.target.astype('category').cat.codes\n",
    "label_df.head()"
   ]
  },
  {
   "cell_type": "markdown",
   "metadata": {},
   "source": [
    "#### How many categories ?"
   ]
  },
  {
   "cell_type": "code",
   "execution_count": 7,
   "metadata": {},
   "outputs": [
    {
     "data": {
      "text/plain": [
       "85"
      ]
     },
     "execution_count": 7,
     "metadata": {},
     "output_type": "execute_result"
    }
   ],
   "source": [
    "label_df['label'].nunique()"
   ]
  },
  {
   "cell_type": "markdown",
   "metadata": {},
   "source": [
    "#### The distribution of actual labels"
   ]
  },
  {
   "cell_type": "code",
   "execution_count": 9,
   "metadata": {},
   "outputs": [
    {
     "data": {
      "text/plain": [
       "(84, 0)"
      ]
     },
     "execution_count": 9,
     "metadata": {},
     "output_type": "execute_result"
    }
   ],
   "source": [
    "label_df['label'].max(),label_df['label'].min()"
   ]
  },
  {
   "cell_type": "code",
   "execution_count": 7,
   "metadata": {},
   "outputs": [
    {
     "data": {
      "application/vnd.plotly.v1+json": {
       "config": {
        "plotlyServerURL": "https://plot.ly"
       },
       "data": [
        {
         "alignmentgroup": "True",
         "bingroup": "x",
         "hovertemplate": "label=%{x}<br>count=%{y}<extra></extra>",
         "legendgroup": "",
         "marker": {
          "color": "#636efa"
         },
         "name": "",
         "offsetgroup": "",
         "orientation": "v",
         "showlegend": false,
         "type": "histogram",
         "x": [
          66,
          51,
          66,
          66,
          66,
          59,
          59,
          59,
          21,
          2,
          58,
          51,
          58,
          28,
          28,
          28,
          16,
          2,
          28,
          16,
          28,
          58,
          66,
          51,
          44,
          2,
          66,
          21,
          28,
          28,
          16,
          28,
          31,
          16,
          16,
          21,
          2,
          28,
          51,
          58,
          58,
          28,
          21,
          21,
          28,
          59,
          51,
          59,
          21,
          2,
          16,
          28,
          58,
          44,
          51,
          59,
          31,
          28,
          66,
          51,
          2,
          44,
          28,
          21,
          28,
          28,
          59,
          59,
          16,
          59,
          1,
          3,
          56,
          58,
          61,
          3,
          23,
          23,
          75,
          1,
          24,
          75,
          1,
          83,
          61,
          61,
          61,
          3,
          30,
          3,
          1,
          30,
          1,
          23,
          61,
          61,
          24,
          75,
          3,
          61,
          56,
          75,
          3,
          1,
          1,
          23,
          13,
          56,
          30,
          83,
          3,
          24,
          24,
          50,
          50,
          50,
          50,
          50,
          39,
          39,
          39,
          39,
          39,
          39,
          39,
          39,
          39,
          4,
          4,
          12,
          12,
          12,
          12,
          12,
          12,
          12,
          56,
          56,
          46,
          46,
          46,
          46,
          46,
          42,
          42,
          42,
          42,
          68,
          68,
          68,
          68,
          46,
          46,
          76,
          76,
          76,
          47,
          47,
          47,
          47,
          78,
          78,
          78,
          78,
          78,
          26,
          26,
          26,
          17,
          17,
          28,
          28,
          28,
          36,
          36,
          36,
          36,
          36,
          36,
          36,
          36,
          70,
          59,
          59,
          59,
          59,
          59,
          59,
          59,
          59,
          59,
          59,
          34,
          34,
          34,
          34,
          34,
          34,
          34,
          40,
          40,
          40,
          40,
          40,
          40,
          46,
          46,
          46,
          7,
          46,
          7,
          82,
          71,
          71,
          71,
          82,
          82,
          53,
          53,
          53,
          53,
          4,
          4,
          4,
          4,
          4,
          4,
          4,
          4,
          13,
          13,
          78,
          78,
          78,
          78,
          78,
          78,
          78,
          13,
          13,
          13,
          13,
          54,
          54,
          54,
          54,
          54,
          56,
          56,
          56,
          56,
          56,
          60,
          60,
          60,
          60,
          60,
          60,
          60,
          60,
          60,
          60,
          23,
          19,
          19,
          19,
          50,
          49,
          49,
          49,
          4,
          51,
          74,
          74,
          74,
          74,
          74,
          74,
          73,
          73,
          8,
          73,
          8,
          60,
          60,
          60,
          60,
          60,
          16,
          16,
          16,
          16,
          67,
          67,
          56,
          56,
          56,
          56,
          17,
          17,
          17,
          17,
          17,
          17,
          17,
          15,
          15,
          15,
          15,
          15,
          33,
          33,
          27,
          27,
          27,
          65,
          65,
          65,
          65,
          65,
          65,
          44,
          44,
          44,
          44,
          59,
          59,
          29,
          29,
          29,
          29,
          29,
          29,
          32,
          32,
          32,
          32,
          79,
          79,
          79,
          37,
          37,
          37,
          37,
          15,
          15,
          9,
          9,
          9,
          9,
          9,
          9,
          34,
          34,
          34,
          0,
          0,
          35,
          35,
          35,
          35,
          11,
          11,
          63,
          63,
          63,
          26,
          26,
          26,
          26,
          18,
          18,
          18,
          18,
          18,
          52,
          52,
          48,
          48,
          48,
          84,
          84,
          84,
          84,
          10,
          10,
          10,
          10,
          56,
          56,
          56,
          80,
          80,
          80,
          80,
          80,
          14,
          14,
          14,
          14,
          14,
          14,
          14,
          14,
          13,
          13,
          13,
          38,
          38,
          73,
          73,
          73,
          73,
          73,
          55,
          55,
          55,
          55,
          55,
          55,
          55,
          55,
          72,
          72,
          72,
          72,
          72,
          72,
          72,
          72,
          11,
          11,
          11,
          11,
          64,
          64,
          64,
          69,
          69,
          69,
          69,
          66,
          66,
          66,
          66,
          66,
          66,
          66,
          66,
          6,
          6,
          6,
          25,
          25,
          25,
          25,
          25,
          25,
          25,
          25,
          25,
          25,
          43,
          43,
          43,
          43,
          43,
          43,
          43,
          43,
          43,
          43,
          81,
          81,
          81,
          81,
          81,
          81,
          81,
          81,
          81,
          81,
          81,
          81,
          77,
          77,
          77,
          78,
          78,
          78,
          21,
          21,
          21,
          21,
          58,
          58,
          58,
          58,
          58,
          58,
          21,
          21,
          21,
          21,
          21,
          21,
          21,
          77,
          77,
          77,
          77,
          77,
          77,
          77,
          77,
          56,
          56,
          56,
          56,
          29,
          29,
          29,
          29,
          17,
          17,
          17,
          17,
          17,
          17,
          17,
          17,
          17,
          17,
          17,
          17,
          17,
          17,
          17,
          17,
          22,
          22,
          22,
          22,
          22,
          22,
          22,
          22,
          22,
          22,
          22,
          22,
          49,
          49,
          49,
          49,
          22,
          22,
          22,
          22,
          22,
          22,
          22,
          22,
          22,
          4,
          4,
          4,
          4,
          4,
          44,
          44,
          44,
          44,
          44,
          44,
          44,
          62,
          46,
          46,
          46,
          46,
          50,
          50,
          50,
          50,
          50,
          22,
          22,
          22,
          22,
          22,
          22,
          22,
          22,
          22,
          22,
          62,
          62,
          62,
          62,
          4,
          4,
          4,
          4,
          4,
          4,
          4,
          4,
          4,
          4,
          4,
          4,
          4,
          5,
          5,
          5,
          64,
          64,
          64,
          64,
          64,
          64,
          64,
          64,
          4,
          4,
          62,
          5,
          5,
          5,
          5,
          5,
          5,
          5,
          5,
          5,
          57,
          57,
          57,
          57,
          57,
          57,
          4,
          4,
          4,
          4,
          4,
          4,
          4,
          4,
          4,
          4,
          4,
          4,
          4,
          4,
          4,
          4,
          4,
          4,
          41,
          41,
          41,
          41,
          41,
          45,
          45,
          45,
          45,
          45,
          45,
          69,
          69,
          69,
          69,
          63,
          63,
          63,
          63,
          63,
          69,
          69,
          50,
          50,
          50,
          50,
          50,
          39,
          39,
          39,
          39,
          4,
          4,
          4,
          39,
          4,
          4,
          39,
          4,
          4,
          20,
          20,
          74,
          74
         ],
         "xaxis": "x",
         "yaxis": "y"
        }
       ],
       "layout": {
        "autosize": true,
        "barmode": "relative",
        "legend": {
         "tracegroupgap": 0
        },
        "template": {
         "data": {
          "bar": [
           {
            "error_x": {
             "color": "#f2f5fa"
            },
            "error_y": {
             "color": "#f2f5fa"
            },
            "marker": {
             "line": {
              "color": "rgb(17,17,17)",
              "width": 0.5
             }
            },
            "type": "bar"
           }
          ],
          "barpolar": [
           {
            "marker": {
             "line": {
              "color": "rgb(17,17,17)",
              "width": 0.5
             }
            },
            "type": "barpolar"
           }
          ],
          "carpet": [
           {
            "aaxis": {
             "endlinecolor": "#A2B1C6",
             "gridcolor": "#506784",
             "linecolor": "#506784",
             "minorgridcolor": "#506784",
             "startlinecolor": "#A2B1C6"
            },
            "baxis": {
             "endlinecolor": "#A2B1C6",
             "gridcolor": "#506784",
             "linecolor": "#506784",
             "minorgridcolor": "#506784",
             "startlinecolor": "#A2B1C6"
            },
            "type": "carpet"
           }
          ],
          "choropleth": [
           {
            "colorbar": {
             "outlinewidth": 0,
             "ticks": ""
            },
            "type": "choropleth"
           }
          ],
          "contour": [
           {
            "colorbar": {
             "outlinewidth": 0,
             "ticks": ""
            },
            "colorscale": [
             [
              0,
              "#0d0887"
             ],
             [
              0.1111111111111111,
              "#46039f"
             ],
             [
              0.2222222222222222,
              "#7201a8"
             ],
             [
              0.3333333333333333,
              "#9c179e"
             ],
             [
              0.4444444444444444,
              "#bd3786"
             ],
             [
              0.5555555555555556,
              "#d8576b"
             ],
             [
              0.6666666666666666,
              "#ed7953"
             ],
             [
              0.7777777777777778,
              "#fb9f3a"
             ],
             [
              0.8888888888888888,
              "#fdca26"
             ],
             [
              1,
              "#f0f921"
             ]
            ],
            "type": "contour"
           }
          ],
          "contourcarpet": [
           {
            "colorbar": {
             "outlinewidth": 0,
             "ticks": ""
            },
            "type": "contourcarpet"
           }
          ],
          "heatmap": [
           {
            "colorbar": {
             "outlinewidth": 0,
             "ticks": ""
            },
            "colorscale": [
             [
              0,
              "#0d0887"
             ],
             [
              0.1111111111111111,
              "#46039f"
             ],
             [
              0.2222222222222222,
              "#7201a8"
             ],
             [
              0.3333333333333333,
              "#9c179e"
             ],
             [
              0.4444444444444444,
              "#bd3786"
             ],
             [
              0.5555555555555556,
              "#d8576b"
             ],
             [
              0.6666666666666666,
              "#ed7953"
             ],
             [
              0.7777777777777778,
              "#fb9f3a"
             ],
             [
              0.8888888888888888,
              "#fdca26"
             ],
             [
              1,
              "#f0f921"
             ]
            ],
            "type": "heatmap"
           }
          ],
          "heatmapgl": [
           {
            "colorbar": {
             "outlinewidth": 0,
             "ticks": ""
            },
            "colorscale": [
             [
              0,
              "#0d0887"
             ],
             [
              0.1111111111111111,
              "#46039f"
             ],
             [
              0.2222222222222222,
              "#7201a8"
             ],
             [
              0.3333333333333333,
              "#9c179e"
             ],
             [
              0.4444444444444444,
              "#bd3786"
             ],
             [
              0.5555555555555556,
              "#d8576b"
             ],
             [
              0.6666666666666666,
              "#ed7953"
             ],
             [
              0.7777777777777778,
              "#fb9f3a"
             ],
             [
              0.8888888888888888,
              "#fdca26"
             ],
             [
              1,
              "#f0f921"
             ]
            ],
            "type": "heatmapgl"
           }
          ],
          "histogram": [
           {
            "marker": {
             "colorbar": {
              "outlinewidth": 0,
              "ticks": ""
             }
            },
            "type": "histogram"
           }
          ],
          "histogram2d": [
           {
            "colorbar": {
             "outlinewidth": 0,
             "ticks": ""
            },
            "colorscale": [
             [
              0,
              "#0d0887"
             ],
             [
              0.1111111111111111,
              "#46039f"
             ],
             [
              0.2222222222222222,
              "#7201a8"
             ],
             [
              0.3333333333333333,
              "#9c179e"
             ],
             [
              0.4444444444444444,
              "#bd3786"
             ],
             [
              0.5555555555555556,
              "#d8576b"
             ],
             [
              0.6666666666666666,
              "#ed7953"
             ],
             [
              0.7777777777777778,
              "#fb9f3a"
             ],
             [
              0.8888888888888888,
              "#fdca26"
             ],
             [
              1,
              "#f0f921"
             ]
            ],
            "type": "histogram2d"
           }
          ],
          "histogram2dcontour": [
           {
            "colorbar": {
             "outlinewidth": 0,
             "ticks": ""
            },
            "colorscale": [
             [
              0,
              "#0d0887"
             ],
             [
              0.1111111111111111,
              "#46039f"
             ],
             [
              0.2222222222222222,
              "#7201a8"
             ],
             [
              0.3333333333333333,
              "#9c179e"
             ],
             [
              0.4444444444444444,
              "#bd3786"
             ],
             [
              0.5555555555555556,
              "#d8576b"
             ],
             [
              0.6666666666666666,
              "#ed7953"
             ],
             [
              0.7777777777777778,
              "#fb9f3a"
             ],
             [
              0.8888888888888888,
              "#fdca26"
             ],
             [
              1,
              "#f0f921"
             ]
            ],
            "type": "histogram2dcontour"
           }
          ],
          "mesh3d": [
           {
            "colorbar": {
             "outlinewidth": 0,
             "ticks": ""
            },
            "type": "mesh3d"
           }
          ],
          "parcoords": [
           {
            "line": {
             "colorbar": {
              "outlinewidth": 0,
              "ticks": ""
             }
            },
            "type": "parcoords"
           }
          ],
          "pie": [
           {
            "automargin": true,
            "type": "pie"
           }
          ],
          "scatter": [
           {
            "marker": {
             "line": {
              "color": "#283442"
             }
            },
            "type": "scatter"
           }
          ],
          "scatter3d": [
           {
            "line": {
             "colorbar": {
              "outlinewidth": 0,
              "ticks": ""
             }
            },
            "marker": {
             "colorbar": {
              "outlinewidth": 0,
              "ticks": ""
             }
            },
            "type": "scatter3d"
           }
          ],
          "scattercarpet": [
           {
            "marker": {
             "colorbar": {
              "outlinewidth": 0,
              "ticks": ""
             }
            },
            "type": "scattercarpet"
           }
          ],
          "scattergeo": [
           {
            "marker": {
             "colorbar": {
              "outlinewidth": 0,
              "ticks": ""
             }
            },
            "type": "scattergeo"
           }
          ],
          "scattergl": [
           {
            "marker": {
             "line": {
              "color": "#283442"
             }
            },
            "type": "scattergl"
           }
          ],
          "scattermapbox": [
           {
            "marker": {
             "colorbar": {
              "outlinewidth": 0,
              "ticks": ""
             }
            },
            "type": "scattermapbox"
           }
          ],
          "scatterpolar": [
           {
            "marker": {
             "colorbar": {
              "outlinewidth": 0,
              "ticks": ""
             }
            },
            "type": "scatterpolar"
           }
          ],
          "scatterpolargl": [
           {
            "marker": {
             "colorbar": {
              "outlinewidth": 0,
              "ticks": ""
             }
            },
            "type": "scatterpolargl"
           }
          ],
          "scatterternary": [
           {
            "marker": {
             "colorbar": {
              "outlinewidth": 0,
              "ticks": ""
             }
            },
            "type": "scatterternary"
           }
          ],
          "surface": [
           {
            "colorbar": {
             "outlinewidth": 0,
             "ticks": ""
            },
            "colorscale": [
             [
              0,
              "#0d0887"
             ],
             [
              0.1111111111111111,
              "#46039f"
             ],
             [
              0.2222222222222222,
              "#7201a8"
             ],
             [
              0.3333333333333333,
              "#9c179e"
             ],
             [
              0.4444444444444444,
              "#bd3786"
             ],
             [
              0.5555555555555556,
              "#d8576b"
             ],
             [
              0.6666666666666666,
              "#ed7953"
             ],
             [
              0.7777777777777778,
              "#fb9f3a"
             ],
             [
              0.8888888888888888,
              "#fdca26"
             ],
             [
              1,
              "#f0f921"
             ]
            ],
            "type": "surface"
           }
          ],
          "table": [
           {
            "cells": {
             "fill": {
              "color": "#506784"
             },
             "line": {
              "color": "rgb(17,17,17)"
             }
            },
            "header": {
             "fill": {
              "color": "#2a3f5f"
             },
             "line": {
              "color": "rgb(17,17,17)"
             }
            },
            "type": "table"
           }
          ]
         },
         "layout": {
          "annotationdefaults": {
           "arrowcolor": "#f2f5fa",
           "arrowhead": 0,
           "arrowwidth": 1
          },
          "coloraxis": {
           "colorbar": {
            "outlinewidth": 0,
            "ticks": ""
           }
          },
          "colorscale": {
           "diverging": [
            [
             0,
             "#8e0152"
            ],
            [
             0.1,
             "#c51b7d"
            ],
            [
             0.2,
             "#de77ae"
            ],
            [
             0.3,
             "#f1b6da"
            ],
            [
             0.4,
             "#fde0ef"
            ],
            [
             0.5,
             "#f7f7f7"
            ],
            [
             0.6,
             "#e6f5d0"
            ],
            [
             0.7,
             "#b8e186"
            ],
            [
             0.8,
             "#7fbc41"
            ],
            [
             0.9,
             "#4d9221"
            ],
            [
             1,
             "#276419"
            ]
           ],
           "sequential": [
            [
             0,
             "#0d0887"
            ],
            [
             0.1111111111111111,
             "#46039f"
            ],
            [
             0.2222222222222222,
             "#7201a8"
            ],
            [
             0.3333333333333333,
             "#9c179e"
            ],
            [
             0.4444444444444444,
             "#bd3786"
            ],
            [
             0.5555555555555556,
             "#d8576b"
            ],
            [
             0.6666666666666666,
             "#ed7953"
            ],
            [
             0.7777777777777778,
             "#fb9f3a"
            ],
            [
             0.8888888888888888,
             "#fdca26"
            ],
            [
             1,
             "#f0f921"
            ]
           ],
           "sequentialminus": [
            [
             0,
             "#0d0887"
            ],
            [
             0.1111111111111111,
             "#46039f"
            ],
            [
             0.2222222222222222,
             "#7201a8"
            ],
            [
             0.3333333333333333,
             "#9c179e"
            ],
            [
             0.4444444444444444,
             "#bd3786"
            ],
            [
             0.5555555555555556,
             "#d8576b"
            ],
            [
             0.6666666666666666,
             "#ed7953"
            ],
            [
             0.7777777777777778,
             "#fb9f3a"
            ],
            [
             0.8888888888888888,
             "#fdca26"
            ],
            [
             1,
             "#f0f921"
            ]
           ]
          },
          "colorway": [
           "#636efa",
           "#EF553B",
           "#00cc96",
           "#ab63fa",
           "#FFA15A",
           "#19d3f3",
           "#FF6692",
           "#B6E880",
           "#FF97FF",
           "#FECB52"
          ],
          "font": {
           "color": "#f2f5fa"
          },
          "geo": {
           "bgcolor": "rgb(17,17,17)",
           "lakecolor": "rgb(17,17,17)",
           "landcolor": "rgb(17,17,17)",
           "showlakes": true,
           "showland": true,
           "subunitcolor": "#506784"
          },
          "hoverlabel": {
           "align": "left"
          },
          "hovermode": "closest",
          "mapbox": {
           "style": "dark"
          },
          "paper_bgcolor": "rgb(17,17,17)",
          "plot_bgcolor": "rgb(17,17,17)",
          "polar": {
           "angularaxis": {
            "gridcolor": "#506784",
            "linecolor": "#506784",
            "ticks": ""
           },
           "bgcolor": "rgb(17,17,17)",
           "radialaxis": {
            "gridcolor": "#506784",
            "linecolor": "#506784",
            "ticks": ""
           }
          },
          "scene": {
           "xaxis": {
            "backgroundcolor": "rgb(17,17,17)",
            "gridcolor": "#506784",
            "gridwidth": 2,
            "linecolor": "#506784",
            "showbackground": true,
            "ticks": "",
            "zerolinecolor": "#C8D4E3"
           },
           "yaxis": {
            "backgroundcolor": "rgb(17,17,17)",
            "gridcolor": "#506784",
            "gridwidth": 2,
            "linecolor": "#506784",
            "showbackground": true,
            "ticks": "",
            "zerolinecolor": "#C8D4E3"
           },
           "zaxis": {
            "backgroundcolor": "rgb(17,17,17)",
            "gridcolor": "#506784",
            "gridwidth": 2,
            "linecolor": "#506784",
            "showbackground": true,
            "ticks": "",
            "zerolinecolor": "#C8D4E3"
           }
          },
          "shapedefaults": {
           "line": {
            "color": "#f2f5fa"
           }
          },
          "sliderdefaults": {
           "bgcolor": "#C8D4E3",
           "bordercolor": "rgb(17,17,17)",
           "borderwidth": 1,
           "tickwidth": 0
          },
          "ternary": {
           "aaxis": {
            "gridcolor": "#506784",
            "linecolor": "#506784",
            "ticks": ""
           },
           "baxis": {
            "gridcolor": "#506784",
            "linecolor": "#506784",
            "ticks": ""
           },
           "bgcolor": "rgb(17,17,17)",
           "caxis": {
            "gridcolor": "#506784",
            "linecolor": "#506784",
            "ticks": ""
           }
          },
          "title": {
           "x": 0.05
          },
          "updatemenudefaults": {
           "bgcolor": "#506784",
           "borderwidth": 0
          },
          "xaxis": {
           "automargin": true,
           "gridcolor": "#283442",
           "linecolor": "#506784",
           "ticks": "",
           "title": {
            "standoff": 15
           },
           "zerolinecolor": "#283442",
           "zerolinewidth": 2
          },
          "yaxis": {
           "automargin": true,
           "gridcolor": "#283442",
           "linecolor": "#506784",
           "ticks": "",
           "title": {
            "standoff": 15
           },
           "zerolinecolor": "#283442",
           "zerolinewidth": 2
          }
         }
        },
        "title": {
         "text": "Actural Label Distribution"
        },
        "xaxis": {
         "anchor": "y",
         "autorange": true,
         "domain": [
          0,
          1
         ],
         "range": [
          -0.5,
          84.5
         ],
         "title": {
          "text": "label"
         },
         "type": "linear"
        },
        "yaxis": {
         "anchor": "x",
         "autorange": true,
         "domain": [
          0,
          1
         ],
         "range": [
          0,
          82.10526315789474
         ],
         "title": {
          "text": "count"
         }
        }
       }
      },
      "image/png": "[encoded data removed]",
      "text/html": [
       "<div>\n",
       "        \n",
       "        \n",
       "            <div id=\"a4d10a54-4dbb-4e1e-8663-f3da6fafe00d\" class=\"plotly-graph-div\" style=\"height:525px; width:100%;\"></div>\n",
       "            <script type=\"text/javascript\">\n",
       "                require([\"plotly\"], function(Plotly) {\n",
       "                    window.PLOTLYENV=window.PLOTLYENV || {};\n",
       "                    \n",
       "                if (document.getElementById(\"a4d10a54-4dbb-4e1e-8663-f3da6fafe00d\")) {\n",
       "                    Plotly.newPlot(\n",
       "                        'a4d10a54-4dbb-4e1e-8663-f3da6fafe00d',\n",
       "                        [{\"alignmentgroup\": \"True\", \"bingroup\": \"x\", \"hovertemplate\": \"label=%{x}<br>count=%{y}<extra></extra>\", \"legendgroup\": \"\", \"marker\": {\"color\": \"#636efa\"}, \"name\": \"\", \"offsetgroup\": \"\", \"orientation\": \"v\", \"showlegend\": false, \"type\": \"histogram\", \"x\": [66, 51, 66, 66, 66, 59, 59, 59, 21, 2, 58, 51, 58, 28, 28, 28, 16, 2, 28, 16, 28, 58, 66, 51, 44, 2, 66, 21, 28, 28, 16, 28, 31, 16, 16, 21, 2, 28, 51, 58, 58, 28, 21, 21, 28, 59, 51, 59, 21, 2, 16, 28, 58, 44, 51, 59, 31, 28, 66, 51, 2, 44, 28, 21, 28, 28, 59, 59, 16, 59, 1, 3, 56, 58, 61, 3, 23, 23, 75, 1, 24, 75, 1, 83, 61, 61, 61, 3, 30, 3, 1, 30, 1, 23, 61, 61, 24, 75, 3, 61, 56, 75, 3, 1, 1, 23, 13, 56, 30, 83, 3, 24, 24, 50, 50, 50, 50, 50, 39, 39, 39, 39, 39, 39, 39, 39, 39, 4, 4, 12, 12, 12, 12, 12, 12, 12, 56, 56, 46, 46, 46, 46, 46, 42, 42, 42, 42, 68, 68, 68, 68, 46, 46, 76, 76, 76, 47, 47, 47, 47, 78, 78, 78, 78, 78, 26, 26, 26, 17, 17, 28, 28, 28, 36, 36, 36, 36, 36, 36, 36, 36, 70, 59, 59, 59, 59, 59, 59, 59, 59, 59, 59, 34, 34, 34, 34, 34, 34, 34, 40, 40, 40, 40, 40, 40, 46, 46, 46, 7, 46, 7, 82, 71, 71, 71, 82, 82, 53, 53, 53, 53, 4, 4, 4, 4, 4, 4, 4, 4, 13, 13, 78, 78, 78, 78, 78, 78, 78, 13, 13, 13, 13, 54, 54, 54, 54, 54, 56, 56, 56, 56, 56, 60, 60, 60, 60, 60, 60, 60, 60, 60, 60, 23, 19, 19, 19, 50, 49, 49, 49, 4, 51, 74, 74, 74, 74, 74, 74, 73, 73, 8, 73, 8, 60, 60, 60, 60, 60, 16, 16, 16, 16, 67, 67, 56, 56, 56, 56, 17, 17, 17, 17, 17, 17, 17, 15, 15, 15, 15, 15, 33, 33, 27, 27, 27, 65, 65, 65, 65, 65, 65, 44, 44, 44, 44, 59, 59, 29, 29, 29, 29, 29, 29, 32, 32, 32, 32, 79, 79, 79, 37, 37, 37, 37, 15, 15, 9, 9, 9, 9, 9, 9, 34, 34, 34, 0, 0, 35, 35, 35, 35, 11, 11, 63, 63, 63, 26, 26, 26, 26, 18, 18, 18, 18, 18, 52, 52, 48, 48, 48, 84, 84, 84, 84, 10, 10, 10, 10, 56, 56, 56, 80, 80, 80, 80, 80, 14, 14, 14, 14, 14, 14, 14, 14, 13, 13, 13, 38, 38, 73, 73, 73, 73, 73, 55, 55, 55, 55, 55, 55, 55, 55, 72, 72, 72, 72, 72, 72, 72, 72, 11, 11, 11, 11, 64, 64, 64, 69, 69, 69, 69, 66, 66, 66, 66, 66, 66, 66, 66, 6, 6, 6, 25, 25, 25, 25, 25, 25, 25, 25, 25, 25, 43, 43, 43, 43, 43, 43, 43, 43, 43, 43, 81, 81, 81, 81, 81, 81, 81, 81, 81, 81, 81, 81, 77, 77, 77, 78, 78, 78, 21, 21, 21, 21, 58, 58, 58, 58, 58, 58, 21, 21, 21, 21, 21, 21, 21, 77, 77, 77, 77, 77, 77, 77, 77, 56, 56, 56, 56, 29, 29, 29, 29, 17, 17, 17, 17, 17, 17, 17, 17, 17, 17, 17, 17, 17, 17, 17, 17, 22, 22, 22, 22, 22, 22, 22, 22, 22, 22, 22, 22, 49, 49, 49, 49, 22, 22, 22, 22, 22, 22, 22, 22, 22, 4, 4, 4, 4, 4, 44, 44, 44, 44, 44, 44, 44, 62, 46, 46, 46, 46, 50, 50, 50, 50, 50, 22, 22, 22, 22, 22, 22, 22, 22, 22, 22, 62, 62, 62, 62, 4, 4, 4, 4, 4, 4, 4, 4, 4, 4, 4, 4, 4, 5, 5, 5, 64, 64, 64, 64, 64, 64, 64, 64, 4, 4, 62, 5, 5, 5, 5, 5, 5, 5, 5, 5, 57, 57, 57, 57, 57, 57, 4, 4, 4, 4, 4, 4, 4, 4, 4, 4, 4, 4, 4, 4, 4, 4, 4, 4, 41, 41, 41, 41, 41, 45, 45, 45, 45, 45, 45, 69, 69, 69, 69, 63, 63, 63, 63, 63, 69, 69, 50, 50, 50, 50, 50, 39, 39, 39, 39, 4, 4, 4, 39, 4, 4, 39, 4, 4, 20, 20, 74, 74], \"xaxis\": \"x\", \"yaxis\": \"y\"}],\n",
       "                        {\"barmode\": \"relative\", \"legend\": {\"tracegroupgap\": 0}, \"template\": {\"data\": {\"bar\": [{\"error_x\": {\"color\": \"#f2f5fa\"}, \"error_y\": {\"color\": \"#f2f5fa\"}, \"marker\": {\"line\": {\"color\": \"rgb(17,17,17)\", \"width\": 0.5}}, \"type\": \"bar\"}], \"barpolar\": [{\"marker\": {\"line\": {\"color\": \"rgb(17,17,17)\", \"width\": 0.5}}, \"type\": \"barpolar\"}], \"carpet\": [{\"aaxis\": {\"endlinecolor\": \"#A2B1C6\", \"gridcolor\": \"#506784\", \"linecolor\": \"#506784\", \"minorgridcolor\": \"#506784\", \"startlinecolor\": \"#A2B1C6\"}, \"baxis\": {\"endlinecolor\": \"#A2B1C6\", \"gridcolor\": \"#506784\", \"linecolor\": \"#506784\", \"minorgridcolor\": \"#506784\", \"startlinecolor\": \"#A2B1C6\"}, \"type\": \"carpet\"}], \"choropleth\": [{\"colorbar\": {\"outlinewidth\": 0, \"ticks\": \"\"}, \"type\": \"choropleth\"}], \"contour\": [{\"colorbar\": {\"outlinewidth\": 0, \"ticks\": \"\"}, \"colorscale\": [[0.0, \"#0d0887\"], [0.1111111111111111, \"#46039f\"], [0.2222222222222222, \"#7201a8\"], [0.3333333333333333, \"#9c179e\"], [0.4444444444444444, \"#bd3786\"], [0.5555555555555556, \"#d8576b\"], [0.6666666666666666, \"#ed7953\"], [0.7777777777777778, \"#fb9f3a\"], [0.8888888888888888, \"#fdca26\"], [1.0, \"#f0f921\"]], \"type\": \"contour\"}], \"contourcarpet\": [{\"colorbar\": {\"outlinewidth\": 0, \"ticks\": \"\"}, \"type\": \"contourcarpet\"}], \"heatmap\": [{\"colorbar\": {\"outlinewidth\": 0, \"ticks\": \"\"}, \"colorscale\": [[0.0, \"#0d0887\"], [0.1111111111111111, \"#46039f\"], [0.2222222222222222, \"#7201a8\"], [0.3333333333333333, \"#9c179e\"], [0.4444444444444444, \"#bd3786\"], [0.5555555555555556, \"#d8576b\"], [0.6666666666666666, \"#ed7953\"], [0.7777777777777778, \"#fb9f3a\"], [0.8888888888888888, \"#fdca26\"], [1.0, \"#f0f921\"]], \"type\": \"heatmap\"}], \"heatmapgl\": [{\"colorbar\": {\"outlinewidth\": 0, \"ticks\": \"\"}, \"colorscale\": [[0.0, \"#0d0887\"], [0.1111111111111111, \"#46039f\"], [0.2222222222222222, \"#7201a8\"], [0.3333333333333333, \"#9c179e\"], [0.4444444444444444, \"#bd3786\"], [0.5555555555555556, \"#d8576b\"], [0.6666666666666666, \"#ed7953\"], [0.7777777777777778, \"#fb9f3a\"], [0.8888888888888888, \"#fdca26\"], [1.0, \"#f0f921\"]], \"type\": \"heatmapgl\"}], \"histogram\": [{\"marker\": {\"colorbar\": {\"outlinewidth\": 0, \"ticks\": \"\"}}, \"type\": \"histogram\"}], \"histogram2d\": [{\"colorbar\": {\"outlinewidth\": 0, \"ticks\": \"\"}, \"colorscale\": [[0.0, \"#0d0887\"], [0.1111111111111111, \"#46039f\"], [0.2222222222222222, \"#7201a8\"], [0.3333333333333333, \"#9c179e\"], [0.4444444444444444, \"#bd3786\"], [0.5555555555555556, \"#d8576b\"], [0.6666666666666666, \"#ed7953\"], [0.7777777777777778, \"#fb9f3a\"], [0.8888888888888888, \"#fdca26\"], [1.0, \"#f0f921\"]], \"type\": \"histogram2d\"}], \"histogram2dcontour\": [{\"colorbar\": {\"outlinewidth\": 0, \"ticks\": \"\"}, \"colorscale\": [[0.0, \"#0d0887\"], [0.1111111111111111, \"#46039f\"], [0.2222222222222222, \"#7201a8\"], [0.3333333333333333, \"#9c179e\"], [0.4444444444444444, \"#bd3786\"], [0.5555555555555556, \"#d8576b\"], [0.6666666666666666, \"#ed7953\"], [0.7777777777777778, \"#fb9f3a\"], [0.8888888888888888, \"#fdca26\"], [1.0, \"#f0f921\"]], \"type\": \"histogram2dcontour\"}], \"mesh3d\": [{\"colorbar\": {\"outlinewidth\": 0, \"ticks\": \"\"}, \"type\": \"mesh3d\"}], \"parcoords\": [{\"line\": {\"colorbar\": {\"outlinewidth\": 0, \"ticks\": \"\"}}, \"type\": \"parcoords\"}], \"pie\": [{\"automargin\": true, \"type\": \"pie\"}], \"scatter\": [{\"marker\": {\"line\": {\"color\": \"#283442\"}}, \"type\": \"scatter\"}], \"scatter3d\": [{\"line\": {\"colorbar\": {\"outlinewidth\": 0, \"ticks\": \"\"}}, \"marker\": {\"colorbar\": {\"outlinewidth\": 0, \"ticks\": \"\"}}, \"type\": \"scatter3d\"}], \"scattercarpet\": [{\"marker\": {\"colorbar\": {\"outlinewidth\": 0, \"ticks\": \"\"}}, \"type\": \"scattercarpet\"}], \"scattergeo\": [{\"marker\": {\"colorbar\": {\"outlinewidth\": 0, \"ticks\": \"\"}}, \"type\": \"scattergeo\"}], \"scattergl\": [{\"marker\": {\"line\": {\"color\": \"#283442\"}}, \"type\": \"scattergl\"}], \"scattermapbox\": [{\"marker\": {\"colorbar\": {\"outlinewidth\": 0, \"ticks\": \"\"}}, \"type\": \"scattermapbox\"}], \"scatterpolar\": [{\"marker\": {\"colorbar\": {\"outlinewidth\": 0, \"ticks\": \"\"}}, \"type\": \"scatterpolar\"}], \"scatterpolargl\": [{\"marker\": {\"colorbar\": {\"outlinewidth\": 0, \"ticks\": \"\"}}, \"type\": \"scatterpolargl\"}], \"scatterternary\": [{\"marker\": {\"colorbar\": {\"outlinewidth\": 0, \"ticks\": \"\"}}, \"type\": \"scatterternary\"}], \"surface\": [{\"colorbar\": {\"outlinewidth\": 0, \"ticks\": \"\"}, \"colorscale\": [[0.0, \"#0d0887\"], [0.1111111111111111, \"#46039f\"], [0.2222222222222222, \"#7201a8\"], [0.3333333333333333, \"#9c179e\"], [0.4444444444444444, \"#bd3786\"], [0.5555555555555556, \"#d8576b\"], [0.6666666666666666, \"#ed7953\"], [0.7777777777777778, \"#fb9f3a\"], [0.8888888888888888, \"#fdca26\"], [1.0, \"#f0f921\"]], \"type\": \"surface\"}], \"table\": [{\"cells\": {\"fill\": {\"color\": \"#506784\"}, \"line\": {\"color\": \"rgb(17,17,17)\"}}, \"header\": {\"fill\": {\"color\": \"#2a3f5f\"}, \"line\": {\"color\": \"rgb(17,17,17)\"}}, \"type\": \"table\"}]}, \"layout\": {\"annotationdefaults\": {\"arrowcolor\": \"#f2f5fa\", \"arrowhead\": 0, \"arrowwidth\": 1}, \"coloraxis\": {\"colorbar\": {\"outlinewidth\": 0, \"ticks\": \"\"}}, \"colorscale\": {\"diverging\": [[0, \"#8e0152\"], [0.1, \"#c51b7d\"], [0.2, \"#de77ae\"], [0.3, \"#f1b6da\"], [0.4, \"#fde0ef\"], [0.5, \"#f7f7f7\"], [0.6, \"#e6f5d0\"], [0.7, \"#b8e186\"], [0.8, \"#7fbc41\"], [0.9, \"#4d9221\"], [1, \"#276419\"]], \"sequential\": [[0.0, \"#0d0887\"], [0.1111111111111111, \"#46039f\"], [0.2222222222222222, \"#7201a8\"], [0.3333333333333333, \"#9c179e\"], [0.4444444444444444, \"#bd3786\"], [0.5555555555555556, \"#d8576b\"], [0.6666666666666666, \"#ed7953\"], [0.7777777777777778, \"#fb9f3a\"], [0.8888888888888888, \"#fdca26\"], [1.0, \"#f0f921\"]], \"sequentialminus\": [[0.0, \"#0d0887\"], [0.1111111111111111, \"#46039f\"], [0.2222222222222222, \"#7201a8\"], [0.3333333333333333, \"#9c179e\"], [0.4444444444444444, \"#bd3786\"], [0.5555555555555556, \"#d8576b\"], [0.6666666666666666, \"#ed7953\"], [0.7777777777777778, \"#fb9f3a\"], [0.8888888888888888, \"#fdca26\"], [1.0, \"#f0f921\"]]}, \"colorway\": [\"#636efa\", \"#EF553B\", \"#00cc96\", \"#ab63fa\", \"#FFA15A\", \"#19d3f3\", \"#FF6692\", \"#B6E880\", \"#FF97FF\", \"#FECB52\"], \"font\": {\"color\": \"#f2f5fa\"}, \"geo\": {\"bgcolor\": \"rgb(17,17,17)\", \"lakecolor\": \"rgb(17,17,17)\", \"landcolor\": \"rgb(17,17,17)\", \"showlakes\": true, \"showland\": true, \"subunitcolor\": \"#506784\"}, \"hoverlabel\": {\"align\": \"left\"}, \"hovermode\": \"closest\", \"mapbox\": {\"style\": \"dark\"}, \"paper_bgcolor\": \"rgb(17,17,17)\", \"plot_bgcolor\": \"rgb(17,17,17)\", \"polar\": {\"angularaxis\": {\"gridcolor\": \"#506784\", \"linecolor\": \"#506784\", \"ticks\": \"\"}, \"bgcolor\": \"rgb(17,17,17)\", \"radialaxis\": {\"gridcolor\": \"#506784\", \"linecolor\": \"#506784\", \"ticks\": \"\"}}, \"scene\": {\"xaxis\": {\"backgroundcolor\": \"rgb(17,17,17)\", \"gridcolor\": \"#506784\", \"gridwidth\": 2, \"linecolor\": \"#506784\", \"showbackground\": true, \"ticks\": \"\", \"zerolinecolor\": \"#C8D4E3\"}, \"yaxis\": {\"backgroundcolor\": \"rgb(17,17,17)\", \"gridcolor\": \"#506784\", \"gridwidth\": 2, \"linecolor\": \"#506784\", \"showbackground\": true, \"ticks\": \"\", \"zerolinecolor\": \"#C8D4E3\"}, \"zaxis\": {\"backgroundcolor\": \"rgb(17,17,17)\", \"gridcolor\": \"#506784\", \"gridwidth\": 2, \"linecolor\": \"#506784\", \"showbackground\": true, \"ticks\": \"\", \"zerolinecolor\": \"#C8D4E3\"}}, \"shapedefaults\": {\"line\": {\"color\": \"#f2f5fa\"}}, \"sliderdefaults\": {\"bgcolor\": \"#C8D4E3\", \"bordercolor\": \"rgb(17,17,17)\", \"borderwidth\": 1, \"tickwidth\": 0}, \"ternary\": {\"aaxis\": {\"gridcolor\": \"#506784\", \"linecolor\": \"#506784\", \"ticks\": \"\"}, \"baxis\": {\"gridcolor\": \"#506784\", \"linecolor\": \"#506784\", \"ticks\": \"\"}, \"bgcolor\": \"rgb(17,17,17)\", \"caxis\": {\"gridcolor\": \"#506784\", \"linecolor\": \"#506784\", \"ticks\": \"\"}}, \"title\": {\"x\": 0.05}, \"updatemenudefaults\": {\"bgcolor\": \"#506784\", \"borderwidth\": 0}, \"xaxis\": {\"automargin\": true, \"gridcolor\": \"#283442\", \"linecolor\": \"#506784\", \"ticks\": \"\", \"title\": {\"standoff\": 15}, \"zerolinecolor\": \"#283442\", \"zerolinewidth\": 2}, \"yaxis\": {\"automargin\": true, \"gridcolor\": \"#283442\", \"linecolor\": \"#506784\", \"ticks\": \"\", \"title\": {\"standoff\": 15}, \"zerolinecolor\": \"#283442\", \"zerolinewidth\": 2}}}, \"title\": {\"text\": \"Actural Label Distribution\"}, \"xaxis\": {\"anchor\": \"y\", \"domain\": [0.0, 1.0], \"title\": {\"text\": \"label\"}}, \"yaxis\": {\"anchor\": \"x\", \"domain\": [0.0, 1.0], \"title\": {\"text\": \"count\"}}},\n",
       "                        {\"responsive\": true}\n",
       "                    ).then(function(){\n",
       "                            \n",
       "var gd = document.getElementById('a4d10a54-4dbb-4e1e-8663-f3da6fafe00d');\n",
       "var x = new MutationObserver(function (mutations, observer) {{\n",
       "        var display = window.getComputedStyle(gd).display;\n",
       "        if (!display || display === 'none') {{\n",
       "            console.log([gd, 'removed!']);\n",
       "            Plotly.purge(gd);\n",
       "            observer.disconnect();\n",
       "        }}\n",
       "}});\n",
       "\n",
       "// Listen for the removal of the full notebook cells\n",
       "var notebookContainer = gd.closest('#notebook-container');\n",
       "if (notebookContainer) {{\n",
       "    x.observe(notebookContainer, {childList: true});\n",
       "}}\n",
       "\n",
       "// Listen for the clearing of the current output cell\n",
       "var outputEl = gd.closest('.output');\n",
       "if (outputEl) {{\n",
       "    x.observe(outputEl, {childList: true});\n",
       "}}\n",
       "\n",
       "                        })\n",
       "                };\n",
       "                });\n",
       "            </script>\n",
       "        </div>"
      ]
     },
     "metadata": {},
     "output_type": "display_data"
    }
   ],
   "source": [
    "fig = px.histogram(label_df,\n",
    "                   x=\"label\",\n",
    "                   title='Actural Label Distribution',\n",
    "                   hover_data=label_df.columns)\n",
    "fig.show()"
   ]
  },
  {
   "cell_type": "markdown",
   "metadata": {},
   "source": [
    "#### Check the list includes all species in DaanForestPark"
   ]
  },
  {
   "cell_type": "code",
   "execution_count": 8,
   "metadata": {
    "scrolled": true
   },
   "outputs": [
    {
     "name": "stderr",
     "output_type": "stream",
     "text": [
      "779it [00:00, 2717.87it/s]\n"
     ]
    }
   ],
   "source": [
    "actual_labels_set = set(label_df['dirpath'])\n",
    "including, excluding = [], set()\n",
    "trainsetlabels_dis = []\n",
    "for subdir, dirs, files in tqdm(os.walk(IMAGE_DIR)):\n",
    "    dirpath = subdir[len(DATA_DIR)+1:]\n",
    "    if dirpath in actual_labels_set:\n",
    "        including.append(dirpath)\n",
    "        trainsetlabels_dis.append(\n",
    "            label_df.loc[label_df['dirpath']==dirpath, 'label'].values[0])\n",
    "    else:\n",
    "        for filename in files:\n",
    "            if filename.endswith(('jpg')):\n",
    "                excluding.add(dirpath)"
   ]
  },
  {
   "cell_type": "code",
   "execution_count": 9,
   "metadata": {},
   "outputs": [
    {
     "data": {
      "text/plain": [
       "(704, 60)"
      ]
     },
     "execution_count": 9,
     "metadata": {},
     "output_type": "execute_result"
    }
   ],
   "source": [
    "len(including), len(excluding)"
   ]
  },
  {
   "cell_type": "markdown",
   "metadata": {},
   "source": [
    "##### Peek the excluded set"
   ]
  },
  {
   "cell_type": "code",
   "execution_count": 10,
   "metadata": {
    "scrolled": true
   },
   "outputs": [
    {
     "data": {
      "text/plain": [
       "{'DaanForestPark/20180328/00JiXc7Li',\n",
       " 'DaanForestPark/20180328/1fEl0PORf',\n",
       " 'DaanForestPark/20180328/2ESqiMx1W',\n",
       " 'DaanForestPark/20180328/2K8CmiRXJ',\n",
       " 'DaanForestPark/20180328/2rmKz9jun',\n",
       " 'DaanForestPark/20180328/4ZV2mm246',\n",
       " 'DaanForestPark/20180328/4d226WzOt',\n",
       " 'DaanForestPark/20180328/5Hh92vwCj',\n",
       " 'DaanForestPark/20180328/5YaDba3Rk',\n",
       " 'DaanForestPark/20180328/7EUKxpgmi',\n",
       " 'DaanForestPark/20180328/7aE0svrDB',\n",
       " 'DaanForestPark/20180328/8ki6u8mRp',\n",
       " 'DaanForestPark/20180328/9QDNnuvXS',\n",
       " 'DaanForestPark/20180328/9mzgB1mce',\n",
       " 'DaanForestPark/20180328/A5oxb5tt6',\n",
       " 'DaanForestPark/20180328/A9M7LhXWr',\n",
       " 'DaanForestPark/20180328/ASuyBDCsU',\n",
       " 'DaanForestPark/20180328/Cm0PGaFuB',\n",
       " 'DaanForestPark/20180328/E34J9pshg',\n",
       " 'DaanForestPark/20180328/F5eoIX3gF',\n",
       " 'DaanForestPark/20180328/GVSG0FATa',\n",
       " 'DaanForestPark/20180328/GtlUAArKQ',\n",
       " 'DaanForestPark/20180328/GwHozfKCv',\n",
       " 'DaanForestPark/20180328/HOlmU0zRV',\n",
       " 'DaanForestPark/20180328/INlKFKjYm',\n",
       " 'DaanForestPark/20180328/LWlyzcxvm',\n",
       " 'DaanForestPark/20180328/N5UWUg2rT',\n",
       " 'DaanForestPark/20180328/NZrYQlFJU',\n",
       " 'DaanForestPark/20180328/OicDCbwQg',\n",
       " 'DaanForestPark/20180328/P4ZuiwgRc',\n",
       " 'DaanForestPark/20180328/PZmLCCB5A',\n",
       " 'DaanForestPark/20180328/TC594rUrr',\n",
       " 'DaanForestPark/20180328/TXuFr8b2h',\n",
       " 'DaanForestPark/20180328/XqCwsVYdu',\n",
       " 'DaanForestPark/20180328/ZDAHLqXyt',\n",
       " 'DaanForestPark/20180328/ashmJQMV2',\n",
       " 'DaanForestPark/20180328/bcrwI7z0O',\n",
       " 'DaanForestPark/20180328/bvnMMGt7k',\n",
       " 'DaanForestPark/20180328/cXcFuWILM',\n",
       " 'DaanForestPark/20180328/cs1WNljH1',\n",
       " 'DaanForestPark/20180328/dVtvn2nhY',\n",
       " 'DaanForestPark/20180328/dpH53EaY5',\n",
       " 'DaanForestPark/20180328/fmYykgOm3',\n",
       " 'DaanForestPark/20180328/iYazUkk0r',\n",
       " 'DaanForestPark/20180328/jJh0WYYxv',\n",
       " 'DaanForestPark/20180328/jYt7FNmkO',\n",
       " 'DaanForestPark/20180328/jpakYqaox',\n",
       " 'DaanForestPark/20180328/k5iTGmWNv',\n",
       " 'DaanForestPark/20180328/nVWJfJ53T',\n",
       " 'DaanForestPark/20180328/p99hEd7TT',\n",
       " 'DaanForestPark/20180328/pkRNGfpSK',\n",
       " 'DaanForestPark/20180328/qzQpXdgWn',\n",
       " 'DaanForestPark/20180328/rSgdQbSAO',\n",
       " 'DaanForestPark/20180328/seFrB42aa',\n",
       " 'DaanForestPark/20180328/suR1pUyvJ',\n",
       " 'DaanForestPark/20180328/tsXDX7pZ5',\n",
       " 'DaanForestPark/20180328/yL5ElkgZ6',\n",
       " 'DaanForestPark/20180328/yrrD19Ucj',\n",
       " 'DaanForestPark/20180328/z87u0G2BS',\n",
       " 'DaanForestPark/20180328/zEC5QPfft'}"
      ]
     },
     "execution_count": 10,
     "metadata": {},
     "output_type": "execute_result"
    }
   ],
   "source": [
    "excluding"
   ]
  },
  {
   "cell_type": "code",
   "execution_count": 11,
   "metadata": {},
   "outputs": [
    {
     "data": {
      "application/vnd.plotly.v1+json": {
       "config": {
        "plotlyServerURL": "https://plot.ly"
       },
       "data": [
        {
         "name": "train",
         "opacity": 0.8,
         "type": "histogram",
         "x": [
          5,
          41,
          5,
          4,
          5,
          5,
          4,
          5,
          57,
          4,
          4,
          41,
          5,
          4,
          41,
          41,
          5,
          4,
          4,
          4,
          57,
          4,
          5,
          4,
          57,
          57,
          4,
          4,
          57,
          57,
          4,
          41,
          4,
          5,
          4,
          4,
          4,
          4,
          4,
          4,
          64,
          62,
          64,
          64,
          64,
          64,
          22,
          4,
          44,
          22,
          22,
          22,
          44,
          22,
          22,
          49,
          49,
          49,
          44,
          22,
          44,
          62,
          22,
          22,
          22,
          22,
          4,
          22,
          22,
          46,
          22,
          4,
          22,
          22,
          22,
          4,
          46,
          44,
          22,
          46,
          44,
          22,
          22,
          44,
          22,
          46,
          4,
          49,
          17,
          17,
          56,
          77,
          58,
          78,
          21,
          17,
          77,
          56,
          17,
          21,
          17,
          17,
          77,
          21,
          58,
          17,
          21,
          21,
          29,
          77,
          77,
          21,
          29,
          21,
          17,
          17,
          58,
          17,
          29,
          17,
          58,
          21,
          78,
          58,
          21,
          77,
          56,
          77,
          77,
          17,
          78,
          17,
          58,
          17,
          29,
          56,
          21,
          17,
          21,
          17,
          4,
          50,
          50,
          4,
          39,
          39,
          74,
          50,
          39,
          4,
          50,
          20,
          50,
          4,
          4,
          20,
          39,
          4,
          4,
          39,
          74,
          39,
          63,
          10,
          19,
          44,
          84,
          59,
          56,
          73,
          38,
          9,
          69,
          65,
          65,
          8,
          29,
          63,
          55,
          16,
          15,
          72,
          64,
          9,
          66,
          32,
          11,
          72,
          14,
          55,
          34,
          26,
          74,
          43,
          66,
          65,
          44,
          15,
          9,
          56,
          17,
          66,
          44,
          14,
          50,
          55,
          37,
          55,
          66,
          69,
          73,
          6,
          74,
          16,
          43,
          73,
          6,
          80,
          18,
          9,
          72,
          49,
          15,
          55,
          14,
          49,
          80,
          60,
          29,
          33,
          48,
          35,
          15,
          9,
          66,
          25,
          10,
          17,
          27,
          49,
          10,
          32,
          25,
          9,
          84,
          37,
          74,
          29,
          84,
          43,
          32,
          43,
          73,
          72,
          66,
          29,
          38,
          16,
          19,
          11,
          67,
          65,
          25,
          74,
          60,
          67,
          32,
          63,
          60,
          56,
          26,
          79,
          8,
          34,
          33,
          73,
          55,
          35,
          13,
          18,
          11,
          34,
          25,
          35,
          25,
          29,
          17,
          15,
          69,
          72,
          14,
          25,
          69,
          17,
          73,
          4,
          48,
          43,
          27,
          14,
          11,
          15,
          37,
          0,
          16,
          43,
          14,
          80,
          65,
          27,
          79,
          65,
          80,
          25,
          10,
          64,
          48,
          79,
          60,
          56,
          43,
          44,
          56,
          60,
          73,
          11,
          73,
          52,
          26,
          72,
          17,
          59,
          29,
          37,
          43,
          23,
          19,
          56,
          55,
          55,
          14,
          11,
          18,
          14,
          25,
          18,
          25,
          52,
          25,
          72,
          17,
          72,
          6,
          84,
          74,
          74,
          17,
          51,
          43,
          18,
          66,
          0,
          64,
          13,
          56,
          26,
          80,
          43,
          15,
          35,
          66,
          13,
          28,
          51,
          51,
          28,
          21,
          59,
          2,
          31,
          28,
          28,
          31,
          28,
          58,
          28,
          66,
          16,
          16,
          21,
          66,
          21,
          59,
          2,
          44,
          2,
          44,
          58,
          2,
          21,
          51,
          28,
          16,
          59,
          16,
          51,
          28,
          16,
          66,
          28,
          58,
          58,
          51,
          59,
          28,
          59,
          58,
          59,
          21,
          16,
          16,
          28,
          2,
          28,
          66,
          59,
          28,
          66,
          58,
          66,
          51,
          28,
          2,
          59,
          21,
          59,
          51,
          21,
          28,
          66,
          44,
          28,
          81,
          81,
          81,
          77,
          81,
          81,
          81,
          81,
          81,
          81,
          77,
          81,
          81,
          81,
          77,
          78,
          4,
          34,
          82,
          71,
          82,
          4,
          13,
          56,
          60,
          71,
          13,
          53,
          4,
          34,
          13,
          78,
          60,
          46,
          7,
          40,
          71,
          54,
          60,
          34,
          13,
          4,
          40,
          60,
          53,
          56,
          56,
          13,
          34,
          46,
          54,
          53,
          60,
          34,
          56,
          34,
          78,
          4,
          54,
          78,
          13,
          82,
          56,
          40,
          4,
          7,
          60,
          54,
          40,
          40,
          60,
          60,
          46,
          78,
          4,
          4,
          40,
          46,
          60,
          78,
          34,
          60,
          54,
          53,
          78,
          4,
          22,
          4,
          4,
          62,
          50,
          4,
          22,
          64,
          4,
          62,
          64,
          4,
          22,
          50,
          22,
          22,
          22,
          22,
          4,
          64,
          22,
          4,
          4,
          5,
          5,
          5,
          4,
          4,
          62,
          4,
          4,
          22,
          50,
          22,
          50,
          50,
          62,
          3,
          61,
          3,
          30,
          83,
          1,
          75,
          75,
          61,
          1,
          56,
          3,
          3,
          1,
          30,
          24,
          83,
          30,
          56,
          56,
          23,
          3,
          61,
          23,
          24,
          1,
          13,
          61,
          24,
          75,
          3,
          61,
          61,
          1,
          24,
          23,
          58,
          1,
          23,
          1,
          3,
          61,
          75,
          63,
          63,
          45,
          69,
          45,
          69,
          69,
          69,
          63,
          45,
          45,
          45,
          69,
          63,
          69,
          63,
          45,
          36,
          36,
          36,
          68,
          42,
          12,
          39,
          12,
          4,
          47,
          12,
          68,
          76,
          59,
          12,
          56,
          78,
          46,
          59,
          50,
          59,
          68,
          56,
          59,
          46,
          59,
          78,
          28,
          36,
          42,
          76,
          39,
          59,
          17,
          59,
          42,
          76,
          26,
          50,
          12,
          12,
          36,
          39,
          39,
          46,
          68,
          26,
          47,
          28,
          36,
          39,
          78,
          4,
          28,
          78,
          46,
          17,
          39,
          39,
          46,
          36,
          50,
          47,
          12,
          42,
          39,
          36,
          70,
          47,
          50,
          59,
          59,
          46,
          26,
          39,
          46,
          78,
          50,
          59
         ]
        },
        {
         "name": "allData",
         "opacity": 0.8,
         "type": "histogram",
         "x": [
          66,
          51,
          66,
          66,
          66,
          59,
          59,
          59,
          21,
          2,
          58,
          51,
          58,
          28,
          28,
          28,
          16,
          2,
          28,
          16,
          28,
          58,
          66,
          51,
          44,
          2,
          66,
          21,
          28,
          28,
          16,
          28,
          31,
          16,
          16,
          21,
          2,
          28,
          51,
          58,
          58,
          28,
          21,
          21,
          28,
          59,
          51,
          59,
          21,
          2,
          16,
          28,
          58,
          44,
          51,
          59,
          31,
          28,
          66,
          51,
          2,
          44,
          28,
          21,
          28,
          28,
          59,
          59,
          16,
          59,
          1,
          3,
          56,
          58,
          61,
          3,
          23,
          23,
          75,
          1,
          24,
          75,
          1,
          83,
          61,
          61,
          61,
          3,
          30,
          3,
          1,
          30,
          1,
          23,
          61,
          61,
          24,
          75,
          3,
          61,
          56,
          75,
          3,
          1,
          1,
          23,
          13,
          56,
          30,
          83,
          3,
          24,
          24,
          50,
          50,
          50,
          50,
          50,
          39,
          39,
          39,
          39,
          39,
          39,
          39,
          39,
          39,
          4,
          4,
          12,
          12,
          12,
          12,
          12,
          12,
          12,
          56,
          56,
          46,
          46,
          46,
          46,
          46,
          42,
          42,
          42,
          42,
          68,
          68,
          68,
          68,
          46,
          46,
          76,
          76,
          76,
          47,
          47,
          47,
          47,
          78,
          78,
          78,
          78,
          78,
          26,
          26,
          26,
          17,
          17,
          28,
          28,
          28,
          36,
          36,
          36,
          36,
          36,
          36,
          36,
          36,
          70,
          59,
          59,
          59,
          59,
          59,
          59,
          59,
          59,
          59,
          59,
          34,
          34,
          34,
          34,
          34,
          34,
          34,
          40,
          40,
          40,
          40,
          40,
          40,
          46,
          46,
          46,
          7,
          46,
          7,
          82,
          71,
          71,
          71,
          82,
          82,
          53,
          53,
          53,
          53,
          4,
          4,
          4,
          4,
          4,
          4,
          4,
          4,
          13,
          13,
          78,
          78,
          78,
          78,
          78,
          78,
          78,
          13,
          13,
          13,
          13,
          54,
          54,
          54,
          54,
          54,
          56,
          56,
          56,
          56,
          56,
          60,
          60,
          60,
          60,
          60,
          60,
          60,
          60,
          60,
          60,
          23,
          19,
          19,
          19,
          50,
          49,
          49,
          49,
          4,
          51,
          74,
          74,
          74,
          74,
          74,
          74,
          73,
          73,
          8,
          73,
          8,
          60,
          60,
          60,
          60,
          60,
          16,
          16,
          16,
          16,
          67,
          67,
          56,
          56,
          56,
          56,
          17,
          17,
          17,
          17,
          17,
          17,
          17,
          15,
          15,
          15,
          15,
          15,
          33,
          33,
          27,
          27,
          27,
          65,
          65,
          65,
          65,
          65,
          65,
          44,
          44,
          44,
          44,
          59,
          59,
          29,
          29,
          29,
          29,
          29,
          29,
          32,
          32,
          32,
          32,
          79,
          79,
          79,
          37,
          37,
          37,
          37,
          15,
          15,
          9,
          9,
          9,
          9,
          9,
          9,
          34,
          34,
          34,
          0,
          0,
          35,
          35,
          35,
          35,
          11,
          11,
          63,
          63,
          63,
          26,
          26,
          26,
          26,
          18,
          18,
          18,
          18,
          18,
          52,
          52,
          48,
          48,
          48,
          84,
          84,
          84,
          84,
          10,
          10,
          10,
          10,
          56,
          56,
          56,
          80,
          80,
          80,
          80,
          80,
          14,
          14,
          14,
          14,
          14,
          14,
          14,
          14,
          13,
          13,
          13,
          38,
          38,
          73,
          73,
          73,
          73,
          73,
          55,
          55,
          55,
          55,
          55,
          55,
          55,
          55,
          72,
          72,
          72,
          72,
          72,
          72,
          72,
          72,
          11,
          11,
          11,
          11,
          64,
          64,
          64,
          69,
          69,
          69,
          69,
          66,
          66,
          66,
          66,
          66,
          66,
          66,
          66,
          6,
          6,
          6,
          25,
          25,
          25,
          25,
          25,
          25,
          25,
          25,
          25,
          25,
          43,
          43,
          43,
          43,
          43,
          43,
          43,
          43,
          43,
          43,
          81,
          81,
          81,
          81,
          81,
          81,
          81,
          81,
          81,
          81,
          81,
          81,
          77,
          77,
          77,
          78,
          78,
          78,
          21,
          21,
          21,
          21,
          58,
          58,
          58,
          58,
          58,
          58,
          21,
          21,
          21,
          21,
          21,
          21,
          21,
          77,
          77,
          77,
          77,
          77,
          77,
          77,
          77,
          56,
          56,
          56,
          56,
          29,
          29,
          29,
          29,
          17,
          17,
          17,
          17,
          17,
          17,
          17,
          17,
          17,
          17,
          17,
          17,
          17,
          17,
          17,
          17,
          22,
          22,
          22,
          22,
          22,
          22,
          22,
          22,
          22,
          22,
          22,
          22,
          49,
          49,
          49,
          49,
          22,
          22,
          22,
          22,
          22,
          22,
          22,
          22,
          22,
          4,
          4,
          4,
          4,
          4,
          44,
          44,
          44,
          44,
          44,
          44,
          44,
          62,
          46,
          46,
          46,
          46,
          50,
          50,
          50,
          50,
          50,
          22,
          22,
          22,
          22,
          22,
          22,
          22,
          22,
          22,
          22,
          62,
          62,
          62,
          62,
          4,
          4,
          4,
          4,
          4,
          4,
          4,
          4,
          4,
          4,
          4,
          4,
          4,
          5,
          5,
          5,
          64,
          64,
          64,
          64,
          64,
          64,
          64,
          64,
          4,
          4,
          62,
          5,
          5,
          5,
          5,
          5,
          5,
          5,
          5,
          5,
          57,
          57,
          57,
          57,
          57,
          57,
          4,
          4,
          4,
          4,
          4,
          4,
          4,
          4,
          4,
          4,
          4,
          4,
          4,
          4,
          4,
          4,
          4,
          4,
          41,
          41,
          41,
          41,
          41,
          45,
          45,
          45,
          45,
          45,
          45,
          69,
          69,
          69,
          69,
          63,
          63,
          63,
          63,
          63,
          69,
          69,
          50,
          50,
          50,
          50,
          50,
          39,
          39,
          39,
          39,
          4,
          4,
          4,
          39,
          4,
          4,
          39,
          4,
          4,
          20,
          20,
          74,
          74
         ]
        }
       ],
       "layout": {
        "autosize": true,
        "bargap": 0.2,
        "bargroupgap": 0.1,
        "template": {
         "data": {
          "bar": [
           {
            "error_x": {
             "color": "#f2f5fa"
            },
            "error_y": {
             "color": "#f2f5fa"
            },
            "marker": {
             "line": {
              "color": "rgb(17,17,17)",
              "width": 0.5
             }
            },
            "type": "bar"
           }
          ],
          "barpolar": [
           {
            "marker": {
             "line": {
              "color": "rgb(17,17,17)",
              "width": 0.5
             }
            },
            "type": "barpolar"
           }
          ],
          "carpet": [
           {
            "aaxis": {
             "endlinecolor": "#A2B1C6",
             "gridcolor": "#506784",
             "linecolor": "#506784",
             "minorgridcolor": "#506784",
             "startlinecolor": "#A2B1C6"
            },
            "baxis": {
             "endlinecolor": "#A2B1C6",
             "gridcolor": "#506784",
             "linecolor": "#506784",
             "minorgridcolor": "#506784",
             "startlinecolor": "#A2B1C6"
            },
            "type": "carpet"
           }
          ],
          "choropleth": [
           {
            "colorbar": {
             "outlinewidth": 0,
             "ticks": ""
            },
            "type": "choropleth"
           }
          ],
          "contour": [
           {
            "colorbar": {
             "outlinewidth": 0,
             "ticks": ""
            },
            "colorscale": [
             [
              0,
              "#0d0887"
             ],
             [
              0.1111111111111111,
              "#46039f"
             ],
             [
              0.2222222222222222,
              "#7201a8"
             ],
             [
              0.3333333333333333,
              "#9c179e"
             ],
             [
              0.4444444444444444,
              "#bd3786"
             ],
             [
              0.5555555555555556,
              "#d8576b"
             ],
             [
              0.6666666666666666,
              "#ed7953"
             ],
             [
              0.7777777777777778,
              "#fb9f3a"
             ],
             [
              0.8888888888888888,
              "#fdca26"
             ],
             [
              1,
              "#f0f921"
             ]
            ],
            "type": "contour"
           }
          ],
          "contourcarpet": [
           {
            "colorbar": {
             "outlinewidth": 0,
             "ticks": ""
            },
            "type": "contourcarpet"
           }
          ],
          "heatmap": [
           {
            "colorbar": {
             "outlinewidth": 0,
             "ticks": ""
            },
            "colorscale": [
             [
              0,
              "#0d0887"
             ],
             [
              0.1111111111111111,
              "#46039f"
             ],
             [
              0.2222222222222222,
              "#7201a8"
             ],
             [
              0.3333333333333333,
              "#9c179e"
             ],
             [
              0.4444444444444444,
              "#bd3786"
             ],
             [
              0.5555555555555556,
              "#d8576b"
             ],
             [
              0.6666666666666666,
              "#ed7953"
             ],
             [
              0.7777777777777778,
              "#fb9f3a"
             ],
             [
              0.8888888888888888,
              "#fdca26"
             ],
             [
              1,
              "#f0f921"
             ]
            ],
            "type": "heatmap"
           }
          ],
          "heatmapgl": [
           {
            "colorbar": {
             "outlinewidth": 0,
             "ticks": ""
            },
            "colorscale": [
             [
              0,
              "#0d0887"
             ],
             [
              0.1111111111111111,
              "#46039f"
             ],
             [
              0.2222222222222222,
              "#7201a8"
             ],
             [
              0.3333333333333333,
              "#9c179e"
             ],
             [
              0.4444444444444444,
              "#bd3786"
             ],
             [
              0.5555555555555556,
              "#d8576b"
             ],
             [
              0.6666666666666666,
              "#ed7953"
             ],
             [
              0.7777777777777778,
              "#fb9f3a"
             ],
             [
              0.8888888888888888,
              "#fdca26"
             ],
             [
              1,
              "#f0f921"
             ]
            ],
            "type": "heatmapgl"
           }
          ],
          "histogram": [
           {
            "marker": {
             "colorbar": {
              "outlinewidth": 0,
              "ticks": ""
             }
            },
            "type": "histogram"
           }
          ],
          "histogram2d": [
           {
            "colorbar": {
             "outlinewidth": 0,
             "ticks": ""
            },
            "colorscale": [
             [
              0,
              "#0d0887"
             ],
             [
              0.1111111111111111,
              "#46039f"
             ],
             [
              0.2222222222222222,
              "#7201a8"
             ],
             [
              0.3333333333333333,
              "#9c179e"
             ],
             [
              0.4444444444444444,
              "#bd3786"
             ],
             [
              0.5555555555555556,
              "#d8576b"
             ],
             [
              0.6666666666666666,
              "#ed7953"
             ],
             [
              0.7777777777777778,
              "#fb9f3a"
             ],
             [
              0.8888888888888888,
              "#fdca26"
             ],
             [
              1,
              "#f0f921"
             ]
            ],
            "type": "histogram2d"
           }
          ],
          "histogram2dcontour": [
           {
            "colorbar": {
             "outlinewidth": 0,
             "ticks": ""
            },
            "colorscale": [
             [
              0,
              "#0d0887"
             ],
             [
              0.1111111111111111,
              "#46039f"
             ],
             [
              0.2222222222222222,
              "#7201a8"
             ],
             [
              0.3333333333333333,
              "#9c179e"
             ],
             [
              0.4444444444444444,
              "#bd3786"
             ],
             [
              0.5555555555555556,
              "#d8576b"
             ],
             [
              0.6666666666666666,
              "#ed7953"
             ],
             [
              0.7777777777777778,
              "#fb9f3a"
             ],
             [
              0.8888888888888888,
              "#fdca26"
             ],
             [
              1,
              "#f0f921"
             ]
            ],
            "type": "histogram2dcontour"
           }
          ],
          "mesh3d": [
           {
            "colorbar": {
             "outlinewidth": 0,
             "ticks": ""
            },
            "type": "mesh3d"
           }
          ],
          "parcoords": [
           {
            "line": {
             "colorbar": {
              "outlinewidth": 0,
              "ticks": ""
             }
            },
            "type": "parcoords"
           }
          ],
          "pie": [
           {
            "automargin": true,
            "type": "pie"
           }
          ],
          "scatter": [
           {
            "marker": {
             "line": {
              "color": "#283442"
             }
            },
            "type": "scatter"
           }
          ],
          "scatter3d": [
           {
            "line": {
             "colorbar": {
              "outlinewidth": 0,
              "ticks": ""
             }
            },
            "marker": {
             "colorbar": {
              "outlinewidth": 0,
              "ticks": ""
             }
            },
            "type": "scatter3d"
           }
          ],
          "scattercarpet": [
           {
            "marker": {
             "colorbar": {
              "outlinewidth": 0,
              "ticks": ""
             }
            },
            "type": "scattercarpet"
           }
          ],
          "scattergeo": [
           {
            "marker": {
             "colorbar": {
              "outlinewidth": 0,
              "ticks": ""
             }
            },
            "type": "scattergeo"
           }
          ],
          "scattergl": [
           {
            "marker": {
             "line": {
              "color": "#283442"
             }
            },
            "type": "scattergl"
           }
          ],
          "scattermapbox": [
           {
            "marker": {
             "colorbar": {
              "outlinewidth": 0,
              "ticks": ""
             }
            },
            "type": "scattermapbox"
           }
          ],
          "scatterpolar": [
           {
            "marker": {
             "colorbar": {
              "outlinewidth": 0,
              "ticks": ""
             }
            },
            "type": "scatterpolar"
           }
          ],
          "scatterpolargl": [
           {
            "marker": {
             "colorbar": {
              "outlinewidth": 0,
              "ticks": ""
             }
            },
            "type": "scatterpolargl"
           }
          ],
          "scatterternary": [
           {
            "marker": {
             "colorbar": {
              "outlinewidth": 0,
              "ticks": ""
             }
            },
            "type": "scatterternary"
           }
          ],
          "surface": [
           {
            "colorbar": {
             "outlinewidth": 0,
             "ticks": ""
            },
            "colorscale": [
             [
              0,
              "#0d0887"
             ],
             [
              0.1111111111111111,
              "#46039f"
             ],
             [
              0.2222222222222222,
              "#7201a8"
             ],
             [
              0.3333333333333333,
              "#9c179e"
             ],
             [
              0.4444444444444444,
              "#bd3786"
             ],
             [
              0.5555555555555556,
              "#d8576b"
             ],
             [
              0.6666666666666666,
              "#ed7953"
             ],
             [
              0.7777777777777778,
              "#fb9f3a"
             ],
             [
              0.8888888888888888,
              "#fdca26"
             ],
             [
              1,
              "#f0f921"
             ]
            ],
            "type": "surface"
           }
          ],
          "table": [
           {
            "cells": {
             "fill": {
              "color": "#506784"
             },
             "line": {
              "color": "rgb(17,17,17)"
             }
            },
            "header": {
             "fill": {
              "color": "#2a3f5f"
             },
             "line": {
              "color": "rgb(17,17,17)"
             }
            },
            "type": "table"
           }
          ]
         },
         "layout": {
          "annotationdefaults": {
           "arrowcolor": "#f2f5fa",
           "arrowhead": 0,
           "arrowwidth": 1
          },
          "coloraxis": {
           "colorbar": {
            "outlinewidth": 0,
            "ticks": ""
           }
          },
          "colorscale": {
           "diverging": [
            [
             0,
             "#8e0152"
            ],
            [
             0.1,
             "#c51b7d"
            ],
            [
             0.2,
             "#de77ae"
            ],
            [
             0.3,
             "#f1b6da"
            ],
            [
             0.4,
             "#fde0ef"
            ],
            [
             0.5,
             "#f7f7f7"
            ],
            [
             0.6,
             "#e6f5d0"
            ],
            [
             0.7,
             "#b8e186"
            ],
            [
             0.8,
             "#7fbc41"
            ],
            [
             0.9,
             "#4d9221"
            ],
            [
             1,
             "#276419"
            ]
           ],
           "sequential": [
            [
             0,
             "#0d0887"
            ],
            [
             0.1111111111111111,
             "#46039f"
            ],
            [
             0.2222222222222222,
             "#7201a8"
            ],
            [
             0.3333333333333333,
             "#9c179e"
            ],
            [
             0.4444444444444444,
             "#bd3786"
            ],
            [
             0.5555555555555556,
             "#d8576b"
            ],
            [
             0.6666666666666666,
             "#ed7953"
            ],
            [
             0.7777777777777778,
             "#fb9f3a"
            ],
            [
             0.8888888888888888,
             "#fdca26"
            ],
            [
             1,
             "#f0f921"
            ]
           ],
           "sequentialminus": [
            [
             0,
             "#0d0887"
            ],
            [
             0.1111111111111111,
             "#46039f"
            ],
            [
             0.2222222222222222,
             "#7201a8"
            ],
            [
             0.3333333333333333,
             "#9c179e"
            ],
            [
             0.4444444444444444,
             "#bd3786"
            ],
            [
             0.5555555555555556,
             "#d8576b"
            ],
            [
             0.6666666666666666,
             "#ed7953"
            ],
            [
             0.7777777777777778,
             "#fb9f3a"
            ],
            [
             0.8888888888888888,
             "#fdca26"
            ],
            [
             1,
             "#f0f921"
            ]
           ]
          },
          "colorway": [
           "#636efa",
           "#EF553B",
           "#00cc96",
           "#ab63fa",
           "#FFA15A",
           "#19d3f3",
           "#FF6692",
           "#B6E880",
           "#FF97FF",
           "#FECB52"
          ],
          "font": {
           "color": "#f2f5fa"
          },
          "geo": {
           "bgcolor": "rgb(17,17,17)",
           "lakecolor": "rgb(17,17,17)",
           "landcolor": "rgb(17,17,17)",
           "showlakes": true,
           "showland": true,
           "subunitcolor": "#506784"
          },
          "hoverlabel": {
           "align": "left"
          },
          "hovermode": "closest",
          "mapbox": {
           "style": "dark"
          },
          "paper_bgcolor": "rgb(17,17,17)",
          "plot_bgcolor": "rgb(17,17,17)",
          "polar": {
           "angularaxis": {
            "gridcolor": "#506784",
            "linecolor": "#506784",
            "ticks": ""
           },
           "bgcolor": "rgb(17,17,17)",
           "radialaxis": {
            "gridcolor": "#506784",
            "linecolor": "#506784",
            "ticks": ""
           }
          },
          "scene": {
           "xaxis": {
            "backgroundcolor": "rgb(17,17,17)",
            "gridcolor": "#506784",
            "gridwidth": 2,
            "linecolor": "#506784",
            "showbackground": true,
            "ticks": "",
            "zerolinecolor": "#C8D4E3"
           },
           "yaxis": {
            "backgroundcolor": "rgb(17,17,17)",
            "gridcolor": "#506784",
            "gridwidth": 2,
            "linecolor": "#506784",
            "showbackground": true,
            "ticks": "",
            "zerolinecolor": "#C8D4E3"
           },
           "zaxis": {
            "backgroundcolor": "rgb(17,17,17)",
            "gridcolor": "#506784",
            "gridwidth": 2,
            "linecolor": "#506784",
            "showbackground": true,
            "ticks": "",
            "zerolinecolor": "#C8D4E3"
           }
          },
          "shapedefaults": {
           "line": {
            "color": "#f2f5fa"
           }
          },
          "sliderdefaults": {
           "bgcolor": "#C8D4E3",
           "bordercolor": "rgb(17,17,17)",
           "borderwidth": 1,
           "tickwidth": 0
          },
          "ternary": {
           "aaxis": {
            "gridcolor": "#506784",
            "linecolor": "#506784",
            "ticks": ""
           },
           "baxis": {
            "gridcolor": "#506784",
            "linecolor": "#506784",
            "ticks": ""
           },
           "bgcolor": "rgb(17,17,17)",
           "caxis": {
            "gridcolor": "#506784",
            "linecolor": "#506784",
            "ticks": ""
           }
          },
          "title": {
           "x": 0.05
          },
          "updatemenudefaults": {
           "bgcolor": "#506784",
           "borderwidth": 0
          },
          "xaxis": {
           "automargin": true,
           "gridcolor": "#283442",
           "linecolor": "#506784",
           "ticks": "",
           "title": {
            "standoff": 15
           },
           "zerolinecolor": "#283442",
           "zerolinewidth": 2
          },
          "yaxis": {
           "automargin": true,
           "gridcolor": "#283442",
           "linecolor": "#506784",
           "ticks": "",
           "title": {
            "standoff": 15
           },
           "zerolinecolor": "#283442",
           "zerolinewidth": 2
          }
         }
        },
        "title": {
         "text": "Label Distribution in actual"
        },
        "xaxis": {
         "autorange": true,
         "range": [
          -0.5,
          84.5
         ],
         "title": {
          "text": "categories"
         },
         "type": "linear"
        },
        "yaxis": {
         "autorange": true,
         "range": [
          0,
          82.10526315789474
         ],
         "title": {
          "text": "Count"
         }
        }
       }
      },
      "image/png": "[encoded data removed]",
      "text/html": [
       "<div>\n",
       "        \n",
       "        \n",
       "            <div id=\"f0b8da71-ff16-4767-9d8d-ea805643dbd3\" class=\"plotly-graph-div\" style=\"height:525px; width:100%;\"></div>\n",
       "            <script type=\"text/javascript\">\n",
       "                require([\"plotly\"], function(Plotly) {\n",
       "                    window.PLOTLYENV=window.PLOTLYENV || {};\n",
       "                    \n",
       "                if (document.getElementById(\"f0b8da71-ff16-4767-9d8d-ea805643dbd3\")) {\n",
       "                    Plotly.newPlot(\n",
       "                        'f0b8da71-ff16-4767-9d8d-ea805643dbd3',\n",
       "                        [{\"name\": \"train\", \"opacity\": 0.8, \"type\": \"histogram\", \"x\": [5, 41, 5, 4, 5, 5, 4, 5, 57, 4, 4, 41, 5, 4, 41, 41, 5, 4, 4, 4, 57, 4, 5, 4, 57, 57, 4, 4, 57, 57, 4, 41, 4, 5, 4, 4, 4, 4, 4, 4, 64, 62, 64, 64, 64, 64, 22, 4, 44, 22, 22, 22, 44, 22, 22, 49, 49, 49, 44, 22, 44, 62, 22, 22, 22, 22, 4, 22, 22, 46, 22, 4, 22, 22, 22, 4, 46, 44, 22, 46, 44, 22, 22, 44, 22, 46, 4, 49, 17, 17, 56, 77, 58, 78, 21, 17, 77, 56, 17, 21, 17, 17, 77, 21, 58, 17, 21, 21, 29, 77, 77, 21, 29, 21, 17, 17, 58, 17, 29, 17, 58, 21, 78, 58, 21, 77, 56, 77, 77, 17, 78, 17, 58, 17, 29, 56, 21, 17, 21, 17, 4, 50, 50, 4, 39, 39, 74, 50, 39, 4, 50, 20, 50, 4, 4, 20, 39, 4, 4, 39, 74, 39, 63, 10, 19, 44, 84, 59, 56, 73, 38, 9, 69, 65, 65, 8, 29, 63, 55, 16, 15, 72, 64, 9, 66, 32, 11, 72, 14, 55, 34, 26, 74, 43, 66, 65, 44, 15, 9, 56, 17, 66, 44, 14, 50, 55, 37, 55, 66, 69, 73, 6, 74, 16, 43, 73, 6, 80, 18, 9, 72, 49, 15, 55, 14, 49, 80, 60, 29, 33, 48, 35, 15, 9, 66, 25, 10, 17, 27, 49, 10, 32, 25, 9, 84, 37, 74, 29, 84, 43, 32, 43, 73, 72, 66, 29, 38, 16, 19, 11, 67, 65, 25, 74, 60, 67, 32, 63, 60, 56, 26, 79, 8, 34, 33, 73, 55, 35, 13, 18, 11, 34, 25, 35, 25, 29, 17, 15, 69, 72, 14, 25, 69, 17, 73, 4, 48, 43, 27, 14, 11, 15, 37, 0, 16, 43, 14, 80, 65, 27, 79, 65, 80, 25, 10, 64, 48, 79, 60, 56, 43, 44, 56, 60, 73, 11, 73, 52, 26, 72, 17, 59, 29, 37, 43, 23, 19, 56, 55, 55, 14, 11, 18, 14, 25, 18, 25, 52, 25, 72, 17, 72, 6, 84, 74, 74, 17, 51, 43, 18, 66, 0, 64, 13, 56, 26, 80, 43, 15, 35, 66, 13, 28, 51, 51, 28, 21, 59, 2, 31, 28, 28, 31, 28, 58, 28, 66, 16, 16, 21, 66, 21, 59, 2, 44, 2, 44, 58, 2, 21, 51, 28, 16, 59, 16, 51, 28, 16, 66, 28, 58, 58, 51, 59, 28, 59, 58, 59, 21, 16, 16, 28, 2, 28, 66, 59, 28, 66, 58, 66, 51, 28, 2, 59, 21, 59, 51, 21, 28, 66, 44, 28, 81, 81, 81, 77, 81, 81, 81, 81, 81, 81, 77, 81, 81, 81, 77, 78, 4, 34, 82, 71, 82, 4, 13, 56, 60, 71, 13, 53, 4, 34, 13, 78, 60, 46, 7, 40, 71, 54, 60, 34, 13, 4, 40, 60, 53, 56, 56, 13, 34, 46, 54, 53, 60, 34, 56, 34, 78, 4, 54, 78, 13, 82, 56, 40, 4, 7, 60, 54, 40, 40, 60, 60, 46, 78, 4, 4, 40, 46, 60, 78, 34, 60, 54, 53, 78, 4, 22, 4, 4, 62, 50, 4, 22, 64, 4, 62, 64, 4, 22, 50, 22, 22, 22, 22, 4, 64, 22, 4, 4, 5, 5, 5, 4, 4, 62, 4, 4, 22, 50, 22, 50, 50, 62, 3, 61, 3, 30, 83, 1, 75, 75, 61, 1, 56, 3, 3, 1, 30, 24, 83, 30, 56, 56, 23, 3, 61, 23, 24, 1, 13, 61, 24, 75, 3, 61, 61, 1, 24, 23, 58, 1, 23, 1, 3, 61, 75, 63, 63, 45, 69, 45, 69, 69, 69, 63, 45, 45, 45, 69, 63, 69, 63, 45, 36, 36, 36, 68, 42, 12, 39, 12, 4, 47, 12, 68, 76, 59, 12, 56, 78, 46, 59, 50, 59, 68, 56, 59, 46, 59, 78, 28, 36, 42, 76, 39, 59, 17, 59, 42, 76, 26, 50, 12, 12, 36, 39, 39, 46, 68, 26, 47, 28, 36, 39, 78, 4, 28, 78, 46, 17, 39, 39, 46, 36, 50, 47, 12, 42, 39, 36, 70, 47, 50, 59, 59, 46, 26, 39, 46, 78, 50, 59]}, {\"name\": \"allData\", \"opacity\": 0.8, \"type\": \"histogram\", \"x\": [66, 51, 66, 66, 66, 59, 59, 59, 21, 2, 58, 51, 58, 28, 28, 28, 16, 2, 28, 16, 28, 58, 66, 51, 44, 2, 66, 21, 28, 28, 16, 28, 31, 16, 16, 21, 2, 28, 51, 58, 58, 28, 21, 21, 28, 59, 51, 59, 21, 2, 16, 28, 58, 44, 51, 59, 31, 28, 66, 51, 2, 44, 28, 21, 28, 28, 59, 59, 16, 59, 1, 3, 56, 58, 61, 3, 23, 23, 75, 1, 24, 75, 1, 83, 61, 61, 61, 3, 30, 3, 1, 30, 1, 23, 61, 61, 24, 75, 3, 61, 56, 75, 3, 1, 1, 23, 13, 56, 30, 83, 3, 24, 24, 50, 50, 50, 50, 50, 39, 39, 39, 39, 39, 39, 39, 39, 39, 4, 4, 12, 12, 12, 12, 12, 12, 12, 56, 56, 46, 46, 46, 46, 46, 42, 42, 42, 42, 68, 68, 68, 68, 46, 46, 76, 76, 76, 47, 47, 47, 47, 78, 78, 78, 78, 78, 26, 26, 26, 17, 17, 28, 28, 28, 36, 36, 36, 36, 36, 36, 36, 36, 70, 59, 59, 59, 59, 59, 59, 59, 59, 59, 59, 34, 34, 34, 34, 34, 34, 34, 40, 40, 40, 40, 40, 40, 46, 46, 46, 7, 46, 7, 82, 71, 71, 71, 82, 82, 53, 53, 53, 53, 4, 4, 4, 4, 4, 4, 4, 4, 13, 13, 78, 78, 78, 78, 78, 78, 78, 13, 13, 13, 13, 54, 54, 54, 54, 54, 56, 56, 56, 56, 56, 60, 60, 60, 60, 60, 60, 60, 60, 60, 60, 23, 19, 19, 19, 50, 49, 49, 49, 4, 51, 74, 74, 74, 74, 74, 74, 73, 73, 8, 73, 8, 60, 60, 60, 60, 60, 16, 16, 16, 16, 67, 67, 56, 56, 56, 56, 17, 17, 17, 17, 17, 17, 17, 15, 15, 15, 15, 15, 33, 33, 27, 27, 27, 65, 65, 65, 65, 65, 65, 44, 44, 44, 44, 59, 59, 29, 29, 29, 29, 29, 29, 32, 32, 32, 32, 79, 79, 79, 37, 37, 37, 37, 15, 15, 9, 9, 9, 9, 9, 9, 34, 34, 34, 0, 0, 35, 35, 35, 35, 11, 11, 63, 63, 63, 26, 26, 26, 26, 18, 18, 18, 18, 18, 52, 52, 48, 48, 48, 84, 84, 84, 84, 10, 10, 10, 10, 56, 56, 56, 80, 80, 80, 80, 80, 14, 14, 14, 14, 14, 14, 14, 14, 13, 13, 13, 38, 38, 73, 73, 73, 73, 73, 55, 55, 55, 55, 55, 55, 55, 55, 72, 72, 72, 72, 72, 72, 72, 72, 11, 11, 11, 11, 64, 64, 64, 69, 69, 69, 69, 66, 66, 66, 66, 66, 66, 66, 66, 6, 6, 6, 25, 25, 25, 25, 25, 25, 25, 25, 25, 25, 43, 43, 43, 43, 43, 43, 43, 43, 43, 43, 81, 81, 81, 81, 81, 81, 81, 81, 81, 81, 81, 81, 77, 77, 77, 78, 78, 78, 21, 21, 21, 21, 58, 58, 58, 58, 58, 58, 21, 21, 21, 21, 21, 21, 21, 77, 77, 77, 77, 77, 77, 77, 77, 56, 56, 56, 56, 29, 29, 29, 29, 17, 17, 17, 17, 17, 17, 17, 17, 17, 17, 17, 17, 17, 17, 17, 17, 22, 22, 22, 22, 22, 22, 22, 22, 22, 22, 22, 22, 49, 49, 49, 49, 22, 22, 22, 22, 22, 22, 22, 22, 22, 4, 4, 4, 4, 4, 44, 44, 44, 44, 44, 44, 44, 62, 46, 46, 46, 46, 50, 50, 50, 50, 50, 22, 22, 22, 22, 22, 22, 22, 22, 22, 22, 62, 62, 62, 62, 4, 4, 4, 4, 4, 4, 4, 4, 4, 4, 4, 4, 4, 5, 5, 5, 64, 64, 64, 64, 64, 64, 64, 64, 4, 4, 62, 5, 5, 5, 5, 5, 5, 5, 5, 5, 57, 57, 57, 57, 57, 57, 4, 4, 4, 4, 4, 4, 4, 4, 4, 4, 4, 4, 4, 4, 4, 4, 4, 4, 41, 41, 41, 41, 41, 45, 45, 45, 45, 45, 45, 69, 69, 69, 69, 63, 63, 63, 63, 63, 69, 69, 50, 50, 50, 50, 50, 39, 39, 39, 39, 4, 4, 4, 39, 4, 4, 39, 4, 4, 20, 20, 74, 74]}],\n",
       "                        {\"bargap\": 0.2, \"bargroupgap\": 0.1, \"template\": {\"data\": {\"bar\": [{\"error_x\": {\"color\": \"#f2f5fa\"}, \"error_y\": {\"color\": \"#f2f5fa\"}, \"marker\": {\"line\": {\"color\": \"rgb(17,17,17)\", \"width\": 0.5}}, \"type\": \"bar\"}], \"barpolar\": [{\"marker\": {\"line\": {\"color\": \"rgb(17,17,17)\", \"width\": 0.5}}, \"type\": \"barpolar\"}], \"carpet\": [{\"aaxis\": {\"endlinecolor\": \"#A2B1C6\", \"gridcolor\": \"#506784\", \"linecolor\": \"#506784\", \"minorgridcolor\": \"#506784\", \"startlinecolor\": \"#A2B1C6\"}, \"baxis\": {\"endlinecolor\": \"#A2B1C6\", \"gridcolor\": \"#506784\", \"linecolor\": \"#506784\", \"minorgridcolor\": \"#506784\", \"startlinecolor\": \"#A2B1C6\"}, \"type\": \"carpet\"}], \"choropleth\": [{\"colorbar\": {\"outlinewidth\": 0, \"ticks\": \"\"}, \"type\": \"choropleth\"}], \"contour\": [{\"colorbar\": {\"outlinewidth\": 0, \"ticks\": \"\"}, \"colorscale\": [[0.0, \"#0d0887\"], [0.1111111111111111, \"#46039f\"], [0.2222222222222222, \"#7201a8\"], [0.3333333333333333, \"#9c179e\"], [0.4444444444444444, \"#bd3786\"], [0.5555555555555556, \"#d8576b\"], [0.6666666666666666, \"#ed7953\"], [0.7777777777777778, \"#fb9f3a\"], [0.8888888888888888, \"#fdca26\"], [1.0, \"#f0f921\"]], \"type\": \"contour\"}], \"contourcarpet\": [{\"colorbar\": {\"outlinewidth\": 0, \"ticks\": \"\"}, \"type\": \"contourcarpet\"}], \"heatmap\": [{\"colorbar\": {\"outlinewidth\": 0, \"ticks\": \"\"}, \"colorscale\": [[0.0, \"#0d0887\"], [0.1111111111111111, \"#46039f\"], [0.2222222222222222, \"#7201a8\"], [0.3333333333333333, \"#9c179e\"], [0.4444444444444444, \"#bd3786\"], [0.5555555555555556, \"#d8576b\"], [0.6666666666666666, \"#ed7953\"], [0.7777777777777778, \"#fb9f3a\"], [0.8888888888888888, \"#fdca26\"], [1.0, \"#f0f921\"]], \"type\": \"heatmap\"}], \"heatmapgl\": [{\"colorbar\": {\"outlinewidth\": 0, \"ticks\": \"\"}, \"colorscale\": [[0.0, \"#0d0887\"], [0.1111111111111111, \"#46039f\"], [0.2222222222222222, \"#7201a8\"], [0.3333333333333333, \"#9c179e\"], [0.4444444444444444, \"#bd3786\"], [0.5555555555555556, \"#d8576b\"], [0.6666666666666666, \"#ed7953\"], [0.7777777777777778, \"#fb9f3a\"], [0.8888888888888888, \"#fdca26\"], [1.0, \"#f0f921\"]], \"type\": \"heatmapgl\"}], \"histogram\": [{\"marker\": {\"colorbar\": {\"outlinewidth\": 0, \"ticks\": \"\"}}, \"type\": \"histogram\"}], \"histogram2d\": [{\"colorbar\": {\"outlinewidth\": 0, \"ticks\": \"\"}, \"colorscale\": [[0.0, \"#0d0887\"], [0.1111111111111111, \"#46039f\"], [0.2222222222222222, \"#7201a8\"], [0.3333333333333333, \"#9c179e\"], [0.4444444444444444, \"#bd3786\"], [0.5555555555555556, \"#d8576b\"], [0.6666666666666666, \"#ed7953\"], [0.7777777777777778, \"#fb9f3a\"], [0.8888888888888888, \"#fdca26\"], [1.0, \"#f0f921\"]], \"type\": \"histogram2d\"}], \"histogram2dcontour\": [{\"colorbar\": {\"outlinewidth\": 0, \"ticks\": \"\"}, \"colorscale\": [[0.0, \"#0d0887\"], [0.1111111111111111, \"#46039f\"], [0.2222222222222222, \"#7201a8\"], [0.3333333333333333, \"#9c179e\"], [0.4444444444444444, \"#bd3786\"], [0.5555555555555556, \"#d8576b\"], [0.6666666666666666, \"#ed7953\"], [0.7777777777777778, \"#fb9f3a\"], [0.8888888888888888, \"#fdca26\"], [1.0, \"#f0f921\"]], \"type\": \"histogram2dcontour\"}], \"mesh3d\": [{\"colorbar\": {\"outlinewidth\": 0, \"ticks\": \"\"}, \"type\": \"mesh3d\"}], \"parcoords\": [{\"line\": {\"colorbar\": {\"outlinewidth\": 0, \"ticks\": \"\"}}, \"type\": \"parcoords\"}], \"pie\": [{\"automargin\": true, \"type\": \"pie\"}], \"scatter\": [{\"marker\": {\"line\": {\"color\": \"#283442\"}}, \"type\": \"scatter\"}], \"scatter3d\": [{\"line\": {\"colorbar\": {\"outlinewidth\": 0, \"ticks\": \"\"}}, \"marker\": {\"colorbar\": {\"outlinewidth\": 0, \"ticks\": \"\"}}, \"type\": \"scatter3d\"}], \"scattercarpet\": [{\"marker\": {\"colorbar\": {\"outlinewidth\": 0, \"ticks\": \"\"}}, \"type\": \"scattercarpet\"}], \"scattergeo\": [{\"marker\": {\"colorbar\": {\"outlinewidth\": 0, \"ticks\": \"\"}}, \"type\": \"scattergeo\"}], \"scattergl\": [{\"marker\": {\"line\": {\"color\": \"#283442\"}}, \"type\": \"scattergl\"}], \"scattermapbox\": [{\"marker\": {\"colorbar\": {\"outlinewidth\": 0, \"ticks\": \"\"}}, \"type\": \"scattermapbox\"}], \"scatterpolar\": [{\"marker\": {\"colorbar\": {\"outlinewidth\": 0, \"ticks\": \"\"}}, \"type\": \"scatterpolar\"}], \"scatterpolargl\": [{\"marker\": {\"colorbar\": {\"outlinewidth\": 0, \"ticks\": \"\"}}, \"type\": \"scatterpolargl\"}], \"scatterternary\": [{\"marker\": {\"colorbar\": {\"outlinewidth\": 0, \"ticks\": \"\"}}, \"type\": \"scatterternary\"}], \"surface\": [{\"colorbar\": {\"outlinewidth\": 0, \"ticks\": \"\"}, \"colorscale\": [[0.0, \"#0d0887\"], [0.1111111111111111, \"#46039f\"], [0.2222222222222222, \"#7201a8\"], [0.3333333333333333, \"#9c179e\"], [0.4444444444444444, \"#bd3786\"], [0.5555555555555556, \"#d8576b\"], [0.6666666666666666, \"#ed7953\"], [0.7777777777777778, \"#fb9f3a\"], [0.8888888888888888, \"#fdca26\"], [1.0, \"#f0f921\"]], \"type\": \"surface\"}], \"table\": [{\"cells\": {\"fill\": {\"color\": \"#506784\"}, \"line\": {\"color\": \"rgb(17,17,17)\"}}, \"header\": {\"fill\": {\"color\": \"#2a3f5f\"}, \"line\": {\"color\": \"rgb(17,17,17)\"}}, \"type\": \"table\"}]}, \"layout\": {\"annotationdefaults\": {\"arrowcolor\": \"#f2f5fa\", \"arrowhead\": 0, \"arrowwidth\": 1}, \"coloraxis\": {\"colorbar\": {\"outlinewidth\": 0, \"ticks\": \"\"}}, \"colorscale\": {\"diverging\": [[0, \"#8e0152\"], [0.1, \"#c51b7d\"], [0.2, \"#de77ae\"], [0.3, \"#f1b6da\"], [0.4, \"#fde0ef\"], [0.5, \"#f7f7f7\"], [0.6, \"#e6f5d0\"], [0.7, \"#b8e186\"], [0.8, \"#7fbc41\"], [0.9, \"#4d9221\"], [1, \"#276419\"]], \"sequential\": [[0.0, \"#0d0887\"], [0.1111111111111111, \"#46039f\"], [0.2222222222222222, \"#7201a8\"], [0.3333333333333333, \"#9c179e\"], [0.4444444444444444, \"#bd3786\"], [0.5555555555555556, \"#d8576b\"], [0.6666666666666666, \"#ed7953\"], [0.7777777777777778, \"#fb9f3a\"], [0.8888888888888888, \"#fdca26\"], [1.0, \"#f0f921\"]], \"sequentialminus\": [[0.0, \"#0d0887\"], [0.1111111111111111, \"#46039f\"], [0.2222222222222222, \"#7201a8\"], [0.3333333333333333, \"#9c179e\"], [0.4444444444444444, \"#bd3786\"], [0.5555555555555556, \"#d8576b\"], [0.6666666666666666, \"#ed7953\"], [0.7777777777777778, \"#fb9f3a\"], [0.8888888888888888, \"#fdca26\"], [1.0, \"#f0f921\"]]}, \"colorway\": [\"#636efa\", \"#EF553B\", \"#00cc96\", \"#ab63fa\", \"#FFA15A\", \"#19d3f3\", \"#FF6692\", \"#B6E880\", \"#FF97FF\", \"#FECB52\"], \"font\": {\"color\": \"#f2f5fa\"}, \"geo\": {\"bgcolor\": \"rgb(17,17,17)\", \"lakecolor\": \"rgb(17,17,17)\", \"landcolor\": \"rgb(17,17,17)\", \"showlakes\": true, \"showland\": true, \"subunitcolor\": \"#506784\"}, \"hoverlabel\": {\"align\": \"left\"}, \"hovermode\": \"closest\", \"mapbox\": {\"style\": \"dark\"}, \"paper_bgcolor\": \"rgb(17,17,17)\", \"plot_bgcolor\": \"rgb(17,17,17)\", \"polar\": {\"angularaxis\": {\"gridcolor\": \"#506784\", \"linecolor\": \"#506784\", \"ticks\": \"\"}, \"bgcolor\": \"rgb(17,17,17)\", \"radialaxis\": {\"gridcolor\": \"#506784\", \"linecolor\": \"#506784\", \"ticks\": \"\"}}, \"scene\": {\"xaxis\": {\"backgroundcolor\": \"rgb(17,17,17)\", \"gridcolor\": \"#506784\", \"gridwidth\": 2, \"linecolor\": \"#506784\", \"showbackground\": true, \"ticks\": \"\", \"zerolinecolor\": \"#C8D4E3\"}, \"yaxis\": {\"backgroundcolor\": \"rgb(17,17,17)\", \"gridcolor\": \"#506784\", \"gridwidth\": 2, \"linecolor\": \"#506784\", \"showbackground\": true, \"ticks\": \"\", \"zerolinecolor\": \"#C8D4E3\"}, \"zaxis\": {\"backgroundcolor\": \"rgb(17,17,17)\", \"gridcolor\": \"#506784\", \"gridwidth\": 2, \"linecolor\": \"#506784\", \"showbackground\": true, \"ticks\": \"\", \"zerolinecolor\": \"#C8D4E3\"}}, \"shapedefaults\": {\"line\": {\"color\": \"#f2f5fa\"}}, \"sliderdefaults\": {\"bgcolor\": \"#C8D4E3\", \"bordercolor\": \"rgb(17,17,17)\", \"borderwidth\": 1, \"tickwidth\": 0}, \"ternary\": {\"aaxis\": {\"gridcolor\": \"#506784\", \"linecolor\": \"#506784\", \"ticks\": \"\"}, \"baxis\": {\"gridcolor\": \"#506784\", \"linecolor\": \"#506784\", \"ticks\": \"\"}, \"bgcolor\": \"rgb(17,17,17)\", \"caxis\": {\"gridcolor\": \"#506784\", \"linecolor\": \"#506784\", \"ticks\": \"\"}}, \"title\": {\"x\": 0.05}, \"updatemenudefaults\": {\"bgcolor\": \"#506784\", \"borderwidth\": 0}, \"xaxis\": {\"automargin\": true, \"gridcolor\": \"#283442\", \"linecolor\": \"#506784\", \"ticks\": \"\", \"title\": {\"standoff\": 15}, \"zerolinecolor\": \"#283442\", \"zerolinewidth\": 2}, \"yaxis\": {\"automargin\": true, \"gridcolor\": \"#283442\", \"linecolor\": \"#506784\", \"ticks\": \"\", \"title\": {\"standoff\": 15}, \"zerolinecolor\": \"#283442\", \"zerolinewidth\": 2}}}, \"title\": {\"text\": \"Label Distribution in actual\"}, \"xaxis\": {\"title\": {\"text\": \"categories\"}}, \"yaxis\": {\"title\": {\"text\": \"Count\"}}},\n",
       "                        {\"responsive\": true}\n",
       "                    ).then(function(){\n",
       "                            \n",
       "var gd = document.getElementById('f0b8da71-ff16-4767-9d8d-ea805643dbd3');\n",
       "var x = new MutationObserver(function (mutations, observer) {{\n",
       "        var display = window.getComputedStyle(gd).display;\n",
       "        if (!display || display === 'none') {{\n",
       "            console.log([gd, 'removed!']);\n",
       "            Plotly.purge(gd);\n",
       "            observer.disconnect();\n",
       "        }}\n",
       "}});\n",
       "\n",
       "// Listen for the removal of the full notebook cells\n",
       "var notebookContainer = gd.closest('#notebook-container');\n",
       "if (notebookContainer) {{\n",
       "    x.observe(notebookContainer, {childList: true});\n",
       "}}\n",
       "\n",
       "// Listen for the clearing of the current output cell\n",
       "var outputEl = gd.closest('.output');\n",
       "if (outputEl) {{\n",
       "    x.observe(outputEl, {childList: true});\n",
       "}}\n",
       "\n",
       "                        })\n",
       "                };\n",
       "                });\n",
       "            </script>\n",
       "        </div>"
      ]
     },
     "metadata": {},
     "output_type": "display_data"
    }
   ],
   "source": [
    "fig = go.Figure()\n",
    "fig.add_trace(go.Histogram(x=trainsetlabels_dis,name='train'))\n",
    "fig.add_trace(go.Histogram(x=label_df['label'],name='allData'))\n",
    "fig.update_layout(title_text='Label Distribution in actual',\n",
    "                xaxis_title_text='categories', # xaxis label\n",
    "                yaxis_title_text='Count', # yaxis label\n",
    "                bargap=0.2, # gap between bars of adjacent location coordinates\n",
    "                bargroupgap=0.1 # gap between bars of the same location coordinates\n",
    "                )\n",
    "fig.update_traces(opacity=0.8)\n",
    "fig.show()"
   ]
  },
  {
   "cell_type": "markdown",
   "metadata": {},
   "source": [
    "#### Finally, save a new one with encoding-label"
   ]
  },
  {
   "cell_type": "code",
   "execution_count": 12,
   "metadata": {},
   "outputs": [],
   "source": [
    "# label_df.to_csv('label2.csv',index=False)"
   ]
  }
 ],
 "metadata": {
  "kernelspec": {
   "display_name": "Python 3",
   "language": "python",
   "name": "python3"
  },
  "language_info": {
   "codemirror_mode": {
    "name": "ipython",
    "version": 3
   },
   "file_extension": ".py",
   "mimetype": "text/x-python",
   "name": "python",
   "nbconvert_exporter": "python",
   "pygments_lexer": "ipython3",
   "version": "3.7.2"
  }
 },
 "nbformat": 4,
 "nbformat_minor": 4
}
