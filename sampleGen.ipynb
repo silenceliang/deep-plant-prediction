{
 "cells": [
  {
   "cell_type": "code",
   "execution_count": 1,
   "metadata": {},
   "outputs": [],
   "source": [
    "import os\n",
    "import numpy as np\n",
    "np.set_printoptions(threshold=np.inf)\n",
    "import cv2\n",
    "import json\n",
    "import pickle"
   ]
  },
  {
   "cell_type": "code",
   "execution_count": 2,
   "metadata": {},
   "outputs": [],
   "source": [
    "DATA_DIR = 'data'\n",
    "IMAGE_DIR = os.path.join(DATA_DIR, 'DaanForestPark')"
   ]
  },
  {
   "cell_type": "code",
   "execution_count": 3,
   "metadata": {},
   "outputs": [],
   "source": [
    "sample = {}"
   ]
  },
  {
   "cell_type": "code",
   "execution_count": 4,
   "metadata": {},
   "outputs": [],
   "source": [
    "def img2rgb(path):\n",
    "    img = cv2.imread(path)\n",
    "    return cv2.cvtColor(img, cv2.COLOR_BGR2RGB)\n",
    "\n",
    "def imgResize(img, percent=30):\n",
    "    width = int(img.shape[1] * percent / 100)\n",
    "    height = int(img.shape[0] * percent / 100)\n",
    "    dim = (width, height)\n",
    "    return cv2.resize(img, dim, interpolation=cv2.INTER_AREA)\n",
    "\n",
    "for subdir, dirs, files in os.walk(IMAGE_DIR):\n",
    "    isSave = False\n",
    "    for filename in files:\n",
    "        if filename.endswith(('jpg')):\n",
    "            img = img2rgb(subdir + os.sep + filename)\n",
    "            img = imgResize(img, 30)\n",
    "            cv2.imwrite('sample/sample.jpg', img)\n",
    "            # normalize\n",
    "            img.astype(np.float32) / 255\n",
    "            mean, std = np.mean(img), np.std(img)\n",
    "            img = (img - mean) / std\n",
    "            sample['img'] = img\n",
    "            isSave = True\n",
    "            break\n",
    "    if isSave:\n",
    "        break"
   ]
  },
  {
   "cell_type": "code",
   "execution_count": 5,
   "metadata": {},
   "outputs": [],
   "source": [
    "class NumpyEncoder(json.JSONEncoder):\n",
    "    def default(self, obj):\n",
    "        if isinstance(obj, np.ndarray):\n",
    "            return obj.tolist()\n",
    "        return json.JSONEncoder.default(self, obj)\n",
    "with open('sample/sample.json', 'w') as f:\n",
    "    json.dump(sample, f,cls=NumpyEncoder)"
   ]
  },
  {
   "cell_type": "code",
   "execution_count": 6,
   "metadata": {},
   "outputs": [],
   "source": [
    "with open(\"sample/sample.txt\", \"w\") as f:\n",
    "    for s in sample['img']:\n",
    "        f.write(str(s) +\"\\n\")"
   ]
  },
  {
   "cell_type": "code",
   "execution_count": 7,
   "metadata": {},
   "outputs": [],
   "source": [
    "with open('sample/sample.pkl', 'wb') as f:\n",
    "    pickle.dump(sample['img'], f)"
   ]
  },
  {
   "cell_type": "code",
   "execution_count": null,
   "metadata": {},
   "outputs": [],
   "source": []
  }
 ],
 "metadata": {
  "kernelspec": {
   "display_name": "Python 3",
   "language": "python",
   "name": "python3"
  },
  "language_info": {
   "codemirror_mode": {
    "name": "ipython",
    "version": 3
   },
   "file_extension": ".py",
   "mimetype": "text/x-python",
   "name": "python",
   "nbconvert_exporter": "python",
   "pygments_lexer": "ipython3",
   "version": "3.7.2"
  }
 },
 "nbformat": 4,
 "nbformat_minor": 4
}
