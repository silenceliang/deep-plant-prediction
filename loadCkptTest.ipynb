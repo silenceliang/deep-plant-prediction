{
 "cells": [
  {
   "cell_type": "markdown",
   "metadata": {},
   "source": [
    "# Load pretrained resNet to predict species of plant"
   ]
  },
  {
   "cell_type": "markdown",
   "metadata": {},
   "source": [
    "### Import libraries and required packages"
   ]
  },
  {
   "cell_type": "markdown",
   "metadata": {},
   "source": [
    "#### descriptions\n",
    "1. **pandas** : reading csv file.(e.g., ground-truth)\n",
    "2. **torch** : load a model for prediction.\n",
    "3. **os** : find out your directory path.\n",
    "4. **cv2** : generate a numeric representation from your orginal image file"
   ]
  },
  {
   "cell_type": "code",
   "execution_count": 1,
   "metadata": {},
   "outputs": [],
   "source": [
    "import pandas as pd\n",
    "import torch\n",
    "import os\n",
    "import cv2"
   ]
  },
  {
   "cell_type": "markdown",
   "metadata": {},
   "source": [
    "### Define the directory"
   ]
  },
  {
   "cell_type": "markdown",
   "metadata": {},
   "source": [
    "#### define the path your model stays"
   ]
  },
  {
   "cell_type": "code",
   "execution_count": 2,
   "metadata": {},
   "outputs": [],
   "source": [
    "CKPT_DIR = 'ckpt'\n",
    "CKPT_PATH = os.path.join(CKPT_DIR, 'resNet_15_compose.ckpt')"
   ]
  },
  {
   "cell_type": "markdown",
   "metadata": {},
   "source": [
    "#### define the ground-truth path"
   ]
  },
  {
   "cell_type": "code",
   "execution_count": 3,
   "metadata": {},
   "outputs": [
    {
     "data": {
      "text/html": [
       "<div>\n",
       "<style scoped>\n",
       "    .dataframe tbody tr th:only-of-type {\n",
       "        vertical-align: middle;\n",
       "    }\n",
       "\n",
       "    .dataframe tbody tr th {\n",
       "        vertical-align: top;\n",
       "    }\n",
       "\n",
       "    .dataframe thead th {\n",
       "        text-align: right;\n",
       "    }\n",
       "</style>\n",
       "<table border=\"1\" class=\"dataframe\">\n",
       "  <thead>\n",
       "    <tr style=\"text-align: right;\">\n",
       "      <th></th>\n",
       "      <th>dirpath</th>\n",
       "      <th>target</th>\n",
       "      <th>label</th>\n",
       "    </tr>\n",
       "  </thead>\n",
       "  <tbody>\n",
       "    <tr>\n",
       "      <th>0</th>\n",
       "      <td>DaanForestPark/20180330/1lZsRrQzj</td>\n",
       "      <td>通泉草</td>\n",
       "      <td>66</td>\n",
       "    </tr>\n",
       "    <tr>\n",
       "      <th>1</th>\n",
       "      <td>DaanForestPark/20180330/4PdXwYcGt</td>\n",
       "      <td>紫花酢漿草</td>\n",
       "      <td>51</td>\n",
       "    </tr>\n",
       "    <tr>\n",
       "      <th>2</th>\n",
       "      <td>DaanForestPark/20180330/6VrmeiUE5</td>\n",
       "      <td>通泉草</td>\n",
       "      <td>66</td>\n",
       "    </tr>\n",
       "    <tr>\n",
       "      <th>3</th>\n",
       "      <td>DaanForestPark/20180330/7nrSoiuHL</td>\n",
       "      <td>通泉草</td>\n",
       "      <td>66</td>\n",
       "    </tr>\n",
       "    <tr>\n",
       "      <th>4</th>\n",
       "      <td>DaanForestPark/20180330/7RKdkJLgy</td>\n",
       "      <td>通泉草</td>\n",
       "      <td>66</td>\n",
       "    </tr>\n",
       "  </tbody>\n",
       "</table>\n",
       "</div>"
      ],
      "text/plain": [
       "                             dirpath target  label\n",
       "0  DaanForestPark/20180330/1lZsRrQzj    通泉草     66\n",
       "1  DaanForestPark/20180330/4PdXwYcGt  紫花酢漿草     51\n",
       "2  DaanForestPark/20180330/6VrmeiUE5    通泉草     66\n",
       "3  DaanForestPark/20180330/7nrSoiuHL    通泉草     66\n",
       "4  DaanForestPark/20180330/7RKdkJLgy    通泉草     66"
      ]
     },
     "execution_count": 3,
     "metadata": {},
     "output_type": "execute_result"
    }
   ],
   "source": [
    "LABEL_DIR = 'label2.csv'\n",
    "label_df = pd.read_csv(LABEL_DIR)\n",
    "label_df.head()"
   ]
  },
  {
   "cell_type": "markdown",
   "metadata": {},
   "source": [
    "#### define your img file"
   ]
  },
  {
   "cell_type": "code",
   "execution_count": 4,
   "metadata": {},
   "outputs": [],
   "source": [
    "DATA_SAMPLE = 'sample/sample.jpg'"
   ]
  },
  {
   "cell_type": "markdown",
   "metadata": {},
   "source": [
    "### Image to RGB representaion function"
   ]
  },
  {
   "cell_type": "code",
   "execution_count": 5,
   "metadata": {},
   "outputs": [],
   "source": [
    "def img2rgb(path):\n",
    "    \"\"\"\n",
    "    :param path: String, location of the image file.\n",
    "    :returns rgb-format numpy array.\n",
    "    \"\"\"\n",
    "    img = cv2.imread(path)\n",
    "    return cv2.cvtColor(img, cv2.COLOR_BGR2RGB)"
   ]
  },
  {
   "cell_type": "markdown",
   "metadata": {},
   "source": [
    "### Load your .ckpt model"
   ]
  },
  {
   "cell_type": "code",
   "execution_count": 6,
   "metadata": {},
   "outputs": [],
   "source": [
    "model = torch.load(CKPT_PATH)"
   ]
  },
  {
   "cell_type": "markdown",
   "metadata": {},
   "source": [
    "### Predict the result when an image comes"
   ]
  },
  {
   "cell_type": "code",
   "execution_count": 10,
   "metadata": {},
   "outputs": [
    {
     "name": "stdout",
     "output_type": "stream",
     "text": [
      "shape of oneshot=torch.Size([1, 3, 192, 340])\n",
      "shape of pred=torch.Size([1, 85])\n"
     ]
    }
   ],
   "source": [
    "# convert image to rgb-format numpy array\n",
    "oneshot = img2rgb(DATA_SAMPLE)\n",
    "# do dimension transpose: (height, weidth, channel) to (channel, height, weidth)\n",
    "oneshot = torch.Tensor(oneshot).permute(2,0,1).unsqueeze(0)\n",
    "# use the cuda wrapper\n",
    "oneshot = oneshot.cuda()\n",
    "# input shape\n",
    "print('shape of oneshot={}'.format(oneshot.shape))\n",
    "pred = model(oneshot)\n",
    "# output shape\n",
    "print('shape of pred={}'.format(pred.shape))\n",
    "# get a predicted label\n",
    "_, predicted = torch.max(pred.cpu().data, 1)"
   ]
  },
  {
   "cell_type": "code",
   "execution_count": 11,
   "metadata": {},
   "outputs": [
    {
     "name": "stdout",
     "output_type": "stream",
     "text": [
      "the predicted result is 通泉草\n"
     ]
    }
   ],
   "source": [
    "res = label_df[label_df['label']==predicted.item()]['target'].unique()[0]\n",
    "print('the predicted result is {}'.format(res))"
   ]
  },
  {
   "cell_type": "code",
   "execution_count": null,
   "metadata": {},
   "outputs": [],
   "source": []
  }
 ],
 "metadata": {
  "kernelspec": {
   "display_name": "Python 3",
   "language": "python",
   "name": "python3"
  },
  "language_info": {
   "codemirror_mode": {
    "name": "ipython",
    "version": 3
   },
   "file_extension": ".py",
   "mimetype": "text/x-python",
   "name": "python",
   "nbconvert_exporter": "python",
   "pygments_lexer": "ipython3",
   "version": "3.7.2"
  }
 },
 "nbformat": 4,
 "nbformat_minor": 4
}
