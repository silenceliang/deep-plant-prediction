{
 "cells": [
  {
   "cell_type": "code",
   "execution_count": 103,
   "metadata": {},
   "outputs": [
    {
     "ename": "FileNotFoundError",
     "evalue": "[Errno 2] No such file or directory: 'output'",
     "output_type": "error",
     "traceback": [
      "\u001b[0;31m---------------------------------------------------------------------------\u001b[0m",
      "\u001b[0;31mFileNotFoundError\u001b[0m                         Traceback (most recent call last)",
      "\u001b[0;32m<ipython-input-103-ee1c0576f350>\u001b[0m in \u001b[0;36m<module>\u001b[0;34m\u001b[0m\n\u001b[1;32m      2\u001b[0m \u001b[0;32mimport\u001b[0m \u001b[0mglob\u001b[0m\u001b[0;34m\u001b[0m\u001b[0;34m\u001b[0m\u001b[0m\n\u001b[1;32m      3\u001b[0m \u001b[0;32mimport\u001b[0m \u001b[0mpandas\u001b[0m \u001b[0;32mas\u001b[0m \u001b[0mpd\u001b[0m\u001b[0;34m\u001b[0m\u001b[0;34m\u001b[0m\u001b[0m\n\u001b[0;32m----> 4\u001b[0;31m \u001b[0mos\u001b[0m\u001b[0;34m.\u001b[0m\u001b[0mchdir\u001b[0m\u001b[0;34m(\u001b[0m\u001b[0;34m'output'\u001b[0m\u001b[0;34m)\u001b[0m\u001b[0;34m\u001b[0m\u001b[0;34m\u001b[0m\u001b[0m\n\u001b[0m",
      "\u001b[0;31mFileNotFoundError\u001b[0m: [Errno 2] No such file or directory: 'output'"
     ]
    }
   ],
   "source": [
    "import os\n",
    "import glob\n",
    "import pandas as pd\n",
    "os.chdir('output')"
   ]
  },
  {
   "cell_type": "code",
   "execution_count": 88,
   "metadata": {},
   "outputs": [],
   "source": [
    "extension = 'csv'\n",
    "all_filenames = [i for i in glob.glob('*.{}'.format(extension))]"
   ]
  },
  {
   "cell_type": "code",
   "execution_count": 89,
   "metadata": {},
   "outputs": [
    {
     "data": {
      "text/html": [
       "<div>\n",
       "<style scoped>\n",
       "    .dataframe tbody tr th:only-of-type {\n",
       "        vertical-align: middle;\n",
       "    }\n",
       "\n",
       "    .dataframe tbody tr th {\n",
       "        vertical-align: top;\n",
       "    }\n",
       "\n",
       "    .dataframe thead th {\n",
       "        text-align: right;\n",
       "    }\n",
       "</style>\n",
       "<table border=\"1\" class=\"dataframe\">\n",
       "  <thead>\n",
       "    <tr style=\"text-align: right;\">\n",
       "      <th></th>\n",
       "      <th>metric</th>\n",
       "      <th>1</th>\n",
       "      <th>2</th>\n",
       "      <th>3</th>\n",
       "      <th>4</th>\n",
       "      <th>5</th>\n",
       "      <th>6</th>\n",
       "      <th>7</th>\n",
       "      <th>8</th>\n",
       "      <th>9</th>\n",
       "      <th>...</th>\n",
       "      <th>11</th>\n",
       "      <th>12</th>\n",
       "      <th>13</th>\n",
       "      <th>14</th>\n",
       "      <th>15</th>\n",
       "      <th>16</th>\n",
       "      <th>17</th>\n",
       "      <th>18</th>\n",
       "      <th>19</th>\n",
       "      <th>20</th>\n",
       "    </tr>\n",
       "  </thead>\n",
       "  <tbody>\n",
       "    <tr>\n",
       "      <th>木棉</th>\n",
       "      <td>precision</td>\n",
       "      <td>0.000000</td>\n",
       "      <td>0.000000</td>\n",
       "      <td>0.000000</td>\n",
       "      <td>0.246914</td>\n",
       "      <td>0.370370</td>\n",
       "      <td>0.864198</td>\n",
       "      <td>0.987654</td>\n",
       "      <td>0.864198</td>\n",
       "      <td>0.987654</td>\n",
       "      <td>...</td>\n",
       "      <td>0.987654</td>\n",
       "      <td>0.987654</td>\n",
       "      <td>0.864198</td>\n",
       "      <td>0.987654</td>\n",
       "      <td>0.987654</td>\n",
       "      <td>0.987654</td>\n",
       "      <td>0.987654</td>\n",
       "      <td>0.987654</td>\n",
       "      <td>0.987654</td>\n",
       "      <td>0.987654</td>\n",
       "    </tr>\n",
       "    <tr>\n",
       "      <th>野薑花</th>\n",
       "      <td>precision</td>\n",
       "      <td>0.947867</td>\n",
       "      <td>0.805687</td>\n",
       "      <td>0.900474</td>\n",
       "      <td>0.900474</td>\n",
       "      <td>0.853081</td>\n",
       "      <td>0.758294</td>\n",
       "      <td>0.616114</td>\n",
       "      <td>0.853081</td>\n",
       "      <td>0.947867</td>\n",
       "      <td>...</td>\n",
       "      <td>0.947867</td>\n",
       "      <td>0.995261</td>\n",
       "      <td>0.900474</td>\n",
       "      <td>0.758294</td>\n",
       "      <td>0.995261</td>\n",
       "      <td>0.947867</td>\n",
       "      <td>0.995261</td>\n",
       "      <td>0.995261</td>\n",
       "      <td>0.995261</td>\n",
       "      <td>0.995261</td>\n",
       "    </tr>\n",
       "    <tr>\n",
       "      <th>孤挺花</th>\n",
       "      <td>recall</td>\n",
       "      <td>0.817121</td>\n",
       "      <td>0.596628</td>\n",
       "      <td>0.544747</td>\n",
       "      <td>0.765240</td>\n",
       "      <td>0.739300</td>\n",
       "      <td>0.752270</td>\n",
       "      <td>0.739300</td>\n",
       "      <td>0.687419</td>\n",
       "      <td>0.881971</td>\n",
       "      <td>...</td>\n",
       "      <td>0.791180</td>\n",
       "      <td>0.869001</td>\n",
       "      <td>0.791180</td>\n",
       "      <td>0.804150</td>\n",
       "      <td>0.843061</td>\n",
       "      <td>0.946822</td>\n",
       "      <td>0.894942</td>\n",
       "      <td>0.830091</td>\n",
       "      <td>0.817121</td>\n",
       "      <td>0.881971</td>\n",
       "    </tr>\n",
       "    <tr>\n",
       "      <th>金露花</th>\n",
       "      <td>recall</td>\n",
       "      <td>0.427046</td>\n",
       "      <td>0.711744</td>\n",
       "      <td>0.711744</td>\n",
       "      <td>0.676157</td>\n",
       "      <td>0.640569</td>\n",
       "      <td>0.676157</td>\n",
       "      <td>0.711744</td>\n",
       "      <td>0.676157</td>\n",
       "      <td>0.711744</td>\n",
       "      <td>...</td>\n",
       "      <td>0.711744</td>\n",
       "      <td>0.604982</td>\n",
       "      <td>0.533808</td>\n",
       "      <td>0.711744</td>\n",
       "      <td>0.676157</td>\n",
       "      <td>0.676157</td>\n",
       "      <td>0.604982</td>\n",
       "      <td>0.676157</td>\n",
       "      <td>0.711744</td>\n",
       "      <td>0.676157</td>\n",
       "    </tr>\n",
       "    <tr>\n",
       "      <th>大花咸豐草</th>\n",
       "      <td>recall</td>\n",
       "      <td>0.331950</td>\n",
       "      <td>0.912863</td>\n",
       "      <td>0.788382</td>\n",
       "      <td>0.663900</td>\n",
       "      <td>0.871369</td>\n",
       "      <td>0.788382</td>\n",
       "      <td>0.871369</td>\n",
       "      <td>0.954357</td>\n",
       "      <td>0.995851</td>\n",
       "      <td>...</td>\n",
       "      <td>0.954357</td>\n",
       "      <td>0.954357</td>\n",
       "      <td>0.995851</td>\n",
       "      <td>0.954357</td>\n",
       "      <td>0.954357</td>\n",
       "      <td>0.995851</td>\n",
       "      <td>0.954357</td>\n",
       "      <td>0.871369</td>\n",
       "      <td>0.954357</td>\n",
       "      <td>0.954357</td>\n",
       "    </tr>\n",
       "  </tbody>\n",
       "</table>\n",
       "<p>5 rows × 21 columns</p>\n",
       "</div>"
      ],
      "text/plain": [
       "          metric         1         2         3         4         5         6  \\\n",
       "木棉     precision  0.000000  0.000000  0.000000  0.246914  0.370370  0.864198   \n",
       "野薑花    precision  0.947867  0.805687  0.900474  0.900474  0.853081  0.758294   \n",
       "孤挺花       recall  0.817121  0.596628  0.544747  0.765240  0.739300  0.752270   \n",
       "金露花       recall  0.427046  0.711744  0.711744  0.676157  0.640569  0.676157   \n",
       "大花咸豐草     recall  0.331950  0.912863  0.788382  0.663900  0.871369  0.788382   \n",
       "\n",
       "              7         8         9  ...        11        12        13  \\\n",
       "木棉     0.987654  0.864198  0.987654  ...  0.987654  0.987654  0.864198   \n",
       "野薑花    0.616114  0.853081  0.947867  ...  0.947867  0.995261  0.900474   \n",
       "孤挺花    0.739300  0.687419  0.881971  ...  0.791180  0.869001  0.791180   \n",
       "金露花    0.711744  0.676157  0.711744  ...  0.711744  0.604982  0.533808   \n",
       "大花咸豐草  0.871369  0.954357  0.995851  ...  0.954357  0.954357  0.995851   \n",
       "\n",
       "             14        15        16        17        18        19        20  \n",
       "木棉     0.987654  0.987654  0.987654  0.987654  0.987654  0.987654  0.987654  \n",
       "野薑花    0.758294  0.995261  0.947867  0.995261  0.995261  0.995261  0.995261  \n",
       "孤挺花    0.804150  0.843061  0.946822  0.894942  0.830091  0.817121  0.881971  \n",
       "金露花    0.711744  0.676157  0.676157  0.604982  0.676157  0.711744  0.676157  \n",
       "大花咸豐草  0.954357  0.954357  0.995851  0.954357  0.871369  0.954357  0.954357  \n",
       "\n",
       "[5 rows x 21 columns]"
      ]
     },
     "execution_count": 89,
     "metadata": {},
     "output_type": "execute_result"
    }
   ],
   "source": [
    "# combine all files in the list\n",
    "combined_csv = pd.concat([pd.read_csv(f).rename(index={0: f.split('_')[1][:-4]}) for f in all_filenames])\n",
    "combined_csv.drop(combined_csv.columns[1], axis=1, inplace=True)\n",
    "combined_csv.rename({combined_csv.columns[0]:'metric'}, axis='columns', inplace=True)\n",
    "combined_csv.head()"
   ]
  },
  {
   "cell_type": "code",
   "execution_count": 90,
   "metadata": {},
   "outputs": [],
   "source": [
    "# export to csv\n",
    "output_csv = 'combined.csv'\n",
    "outdir = 'result'\n",
    "if not os.path.exists(outdir):\n",
    "    os.mkdir(outdir)\n",
    "fullname = os.path.join(outdir, output_csv)    \n",
    "combined_csv.to_csv(fullname)"
   ]
  },
  {
   "cell_type": "markdown",
   "metadata": {},
   "source": [
    "### PRECISION & RECALL"
   ]
  },
  {
   "cell_type": "code",
   "execution_count": 97,
   "metadata": {},
   "outputs": [],
   "source": [
    "df_prec = combined_csv[combined_csv['metric'] == 'precision']\n",
    "df_reca = combined_csv[combined_csv['metric'] == 'recall']"
   ]
  },
  {
   "cell_type": "code",
   "execution_count": 101,
   "metadata": {},
   "outputs": [
    {
     "data": {
      "text/plain": [
       "非洲鳳仙花    0.998811\n",
       "槭葉牽牛     0.997921\n",
       "台灣萍蓬草    0.997305\n",
       "龍葵       0.996885\n",
       "三色堇      0.996885\n",
       "黃波斯菊     0.996441\n",
       "美人蕉      0.995851\n",
       "翠蘆莉      0.995851\n",
       "野薑花      0.995261\n",
       "山月桃      0.995025\n",
       "Name: 20, dtype: float64"
      ]
     },
     "execution_count": 101,
     "metadata": {},
     "output_type": "execute_result"
    }
   ],
   "source": [
    "df_prec.iloc[:,-1].sort_values(ascending=False)[:10]"
   ]
  },
  {
   "cell_type": "code",
   "execution_count": 102,
   "metadata": {},
   "outputs": [
    {
     "data": {
      "text/plain": [
       "仙丹花      0.999160\n",
       "非洲鳳仙花    0.998811\n",
       "龍葵       0.996885\n",
       "黃波斯菊     0.996441\n",
       "皋月杜鵑     0.995851\n",
       "野薑花      0.995261\n",
       "山月桃      0.995025\n",
       "水丁香      0.993789\n",
       "立鶴花      0.993789\n",
       "桃金孃      0.993789\n",
       "Name: 20, dtype: float64"
      ]
     },
     "execution_count": 102,
     "metadata": {},
     "output_type": "execute_result"
    }
   ],
   "source": [
    "df_reca.iloc[:,-1].sort_values(ascending=False)[:10]"
   ]
  }
 ],
 "metadata": {
  "kernelspec": {
   "display_name": "Python 3",
   "language": "python",
   "name": "python3"
  },
  "language_info": {
   "codemirror_mode": {
    "name": "ipython",
    "version": 3
   },
   "file_extension": ".py",
   "mimetype": "text/x-python",
   "name": "python",
   "nbconvert_exporter": "python",
   "pygments_lexer": "ipython3",
   "version": "3.7.2"
  }
 },
 "nbformat": 4,
 "nbformat_minor": 4
}
